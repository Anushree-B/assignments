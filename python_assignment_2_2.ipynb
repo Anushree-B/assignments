{
  "cells": [
    {
      "cell_type": "markdown",
      "metadata": {
        "id": "view-in-github",
        "colab_type": "text"
      },
      "source": [
        "<a href=\"https://colab.research.google.com/github/Anushree-B/assignments/blob/main/python_assignment_2_2.ipynb\" target=\"_parent\"><img src=\"https://colab.research.google.com/assets/colab-badge.svg\" alt=\"Open In Colab\"/></a>"
      ]
    },
    {
      "cell_type": "code",
      "execution_count": null,
      "id": "e67e14c2",
      "metadata": {
        "id": "e67e14c2"
      },
      "outputs": [],
      "source": [
        "import pandas as pd\n",
        "import numpy as np"
      ]
    },
    {
      "cell_type": "code",
      "execution_count": null,
      "id": "263f9dd0",
      "metadata": {
        "id": "263f9dd0"
      },
      "outputs": [],
      "source": [
        "#reading the dataset\n",
        "df = pd.read_csv(\"Z:/python sem 2/sales.csv\")"
      ]
    },
    {
      "cell_type": "code",
      "execution_count": null,
      "id": "3dc7c0d5",
      "metadata": {
        "id": "3dc7c0d5",
        "outputId": "95769729-36a8-42aa-cb6d-3e751746d559"
      },
      "outputs": [
        {
          "data": {
            "text/html": [
              "<div>\n",
              "<style scoped>\n",
              "    .dataframe tbody tr th:only-of-type {\n",
              "        vertical-align: middle;\n",
              "    }\n",
              "\n",
              "    .dataframe tbody tr th {\n",
              "        vertical-align: top;\n",
              "    }\n",
              "\n",
              "    .dataframe thead th {\n",
              "        text-align: right;\n",
              "    }\n",
              "</style>\n",
              "<table border=\"1\" class=\"dataframe\">\n",
              "  <thead>\n",
              "    <tr style=\"text-align: right;\">\n",
              "      <th></th>\n",
              "      <th>date</th>\n",
              "      <th>gender</th>\n",
              "      <th>region</th>\n",
              "      <th>sales</th>\n",
              "    </tr>\n",
              "  </thead>\n",
              "  <tbody>\n",
              "    <tr>\n",
              "      <th>0</th>\n",
              "      <td>8/22/2022</td>\n",
              "      <td>Male</td>\n",
              "      <td>North-West</td>\n",
              "      <td>20381</td>\n",
              "    </tr>\n",
              "    <tr>\n",
              "      <th>1</th>\n",
              "      <td>3/5/2022</td>\n",
              "      <td>Male</td>\n",
              "      <td>North-East</td>\n",
              "      <td>14495</td>\n",
              "    </tr>\n",
              "    <tr>\n",
              "      <th>2</th>\n",
              "      <td>2/9/2022</td>\n",
              "      <td>Male</td>\n",
              "      <td>North-East</td>\n",
              "      <td>13510</td>\n",
              "    </tr>\n",
              "    <tr>\n",
              "      <th>3</th>\n",
              "      <td>6/22/2022</td>\n",
              "      <td>Male</td>\n",
              "      <td>North-East</td>\n",
              "      <td>15983</td>\n",
              "    </tr>\n",
              "    <tr>\n",
              "      <th>4</th>\n",
              "      <td>8/10/2022</td>\n",
              "      <td>Female</td>\n",
              "      <td>North-West</td>\n",
              "      <td>15007</td>\n",
              "    </tr>\n",
              "    <tr>\n",
              "      <th>...</th>\n",
              "      <td>...</td>\n",
              "      <td>...</td>\n",
              "      <td>...</td>\n",
              "      <td>...</td>\n",
              "    </tr>\n",
              "    <tr>\n",
              "      <th>995</th>\n",
              "      <td>6/2/2022</td>\n",
              "      <td>Female</td>\n",
              "      <td>North-West</td>\n",
              "      <td>14015</td>\n",
              "    </tr>\n",
              "    <tr>\n",
              "      <th>996</th>\n",
              "      <td>5/20/2022</td>\n",
              "      <td>Female</td>\n",
              "      <td>North-East</td>\n",
              "      <td>15503</td>\n",
              "    </tr>\n",
              "    <tr>\n",
              "      <th>997</th>\n",
              "      <td>4/2/2022</td>\n",
              "      <td>Male</td>\n",
              "      <td>North-East</td>\n",
              "      <td>18714</td>\n",
              "    </tr>\n",
              "    <tr>\n",
              "      <th>998</th>\n",
              "      <td>12/7/2022</td>\n",
              "      <td>Male</td>\n",
              "      <td>North-East</td>\n",
              "      <td>19910</td>\n",
              "    </tr>\n",
              "    <tr>\n",
              "      <th>999</th>\n",
              "      <td>12/19/2022</td>\n",
              "      <td>Female</td>\n",
              "      <td>North-West</td>\n",
              "      <td>16589</td>\n",
              "    </tr>\n",
              "  </tbody>\n",
              "</table>\n",
              "<p>1000 rows × 4 columns</p>\n",
              "</div>"
            ],
            "text/plain": [
              "           date  gender      region  sales\n",
              "0     8/22/2022    Male  North-West  20381\n",
              "1      3/5/2022    Male  North-East  14495\n",
              "2      2/9/2022    Male  North-East  13510\n",
              "3     6/22/2022    Male  North-East  15983\n",
              "4     8/10/2022  Female  North-West  15007\n",
              "..          ...     ...         ...    ...\n",
              "995    6/2/2022  Female  North-West  14015\n",
              "996   5/20/2022  Female  North-East  15503\n",
              "997    4/2/2022    Male  North-East  18714\n",
              "998   12/7/2022    Male  North-East  19910\n",
              "999  12/19/2022  Female  North-West  16589\n",
              "\n",
              "[1000 rows x 4 columns]"
            ]
          },
          "execution_count": 3,
          "metadata": {},
          "output_type": "execute_result"
        }
      ],
      "source": [
        "df"
      ]
    },
    {
      "cell_type": "code",
      "execution_count": null,
      "id": "ae851741",
      "metadata": {
        "id": "ae851741"
      },
      "outputs": [],
      "source": [
        "df_group = df.groupby('region')"
      ]
    },
    {
      "cell_type": "code",
      "execution_count": null,
      "id": "5e764521",
      "metadata": {
        "id": "5e764521",
        "outputId": "39077ea9-80b3-469d-c530-5316821c8b01"
      },
      "outputs": [
        {
          "data": {
            "text/plain": [
              "<pandas.core.groupby.generic.DataFrameGroupBy object at 0x000002C1AC1F5C10>"
            ]
          },
          "execution_count": 18,
          "metadata": {},
          "output_type": "execute_result"
        }
      ],
      "source": [
        "df_group"
      ]
    },
    {
      "cell_type": "code",
      "execution_count": null,
      "id": "6f063e84",
      "metadata": {
        "id": "6f063e84",
        "outputId": "8169192d-17cb-4b74-b412-e6055448ff17"
      },
      "outputs": [
        {
          "name": "stdout",
          "output_type": "stream",
          "text": [
            "{'North-East': [1, 2, 3, 12, 13, 14, 15, 18, 19, 23, 24, 25, 26, 28, 31, 35, 40, 41, 45, 50, 51, 58, 59, 60, 63, 64, 67, 68, 72, 75, 76, 77, 80, 82, 83, 85, 87, 92, 94, 100, 105, 108, 109, 112, 113, 114, 115, 120, 121, 125, 127, 130, 134, 138, 139, 140, 141, 142, 146, 149, 155, 157, 164, 165, 176, 177, 179, 180, 188, 191, 193, 195, 199, 201, 205, 207, 211, 216, 218, 222, 224, 228, 231, 236, 242, 243, 246, 249, 254, 256, 259, 264, 265, 271, 272, 280, 283, 287, 288, 289, ...], 'North-West': [0, 4, 7, 11, 16, 17, 21, 29, 30, 34, 36, 38, 39, 42, 43, 44, 46, 48, 49, 52, 55, 56, 62, 66, 70, 71, 74, 79, 88, 89, 90, 91, 95, 98, 99, 103, 106, 116, 117, 119, 122, 123, 128, 129, 132, 137, 143, 144, 147, 148, 151, 153, 154, 156, 160, 161, 169, 171, 175, 178, 184, 185, 186, 198, 204, 206, 209, 212, 217, 221, 223, 225, 230, 233, 234, 235, 237, 240, 244, 251, 252, 253, 255, 260, 261, 263, 266, 267, 277, 278, 281, 285, 290, 291, 296, 297, 300, 318, 320, 321, ...], 'South': [5, 6, 8, 9, 10, 20, 22, 27, 32, 33, 37, 47, 53, 54, 57, 61, 65, 69, 73, 78, 81, 84, 86, 93, 96, 97, 101, 102, 104, 107, 110, 111, 118, 124, 126, 131, 133, 135, 136, 145, 150, 152, 158, 159, 162, 163, 166, 167, 168, 170, 172, 173, 174, 181, 182, 183, 187, 189, 190, 192, 194, 196, 197, 200, 202, 203, 208, 210, 213, 214, 215, 219, 220, 226, 227, 229, 232, 238, 239, 241, 245, 247, 248, 250, 257, 258, 262, 268, 269, 270, 273, 274, 275, 276, 279, 282, 284, 286, 292, 294, ...]}\n"
          ]
        }
      ],
      "source": [
        "print(df.groupby('region').groups)"
      ]
    },
    {
      "cell_type": "code",
      "execution_count": null,
      "id": "6a50572c",
      "metadata": {
        "id": "6a50572c",
        "outputId": "c6837bca-19e5-49bc-98f0-3bde29bebb8c"
      },
      "outputs": [
        {
          "name": "stdout",
          "output_type": "stream",
          "text": [
            "                 date gender  sales\n",
            "region                             \n",
            "North-East   3/5/2022   Male  14495\n",
            "North-West  8/22/2022   Male  20381\n",
            "South        9/6/2022   Male  21792\n"
          ]
        }
      ],
      "source": [
        "print(df_group.first())"
      ]
    },
    {
      "cell_type": "code",
      "execution_count": null,
      "id": "5f77b948",
      "metadata": {
        "id": "5f77b948",
        "outputId": "cb0f941e-2d92-46dd-b754-a9f5fabbc46b"
      },
      "outputs": [
        {
          "name": "stdout",
          "output_type": "stream",
          "text": [
            "            date  gender  sales\n",
            "region                         \n",
            "North-East   347     347    347\n",
            "North-West   322     322    322\n",
            "South        331     331    331\n"
          ]
        }
      ],
      "source": [
        "# counting members of group\n",
        "\n",
        "print(df_group.count())"
      ]
    },
    {
      "cell_type": "code",
      "execution_count": null,
      "id": "e1001ee5",
      "metadata": {
        "id": "e1001ee5",
        "outputId": "abc9b129-34ae-4615-b71a-0de88bee9f79"
      },
      "outputs": [
        {
          "data": {
            "text/plain": [
              "dict_keys(['North-East', 'North-West', 'South'])"
            ]
          },
          "execution_count": 8,
          "metadata": {},
          "output_type": "execute_result"
        }
      ],
      "source": [
        "#accessing only group names of a groupby object\n",
        "df_group.groups.keys()"
      ]
    },
    {
      "cell_type": "code",
      "execution_count": null,
      "id": "a0e7de60",
      "metadata": {
        "id": "a0e7de60",
        "outputId": "57739b58-1a9e-4fde-b5ef-37e934df00ee"
      },
      "outputs": [
        {
          "name": "stdout",
          "output_type": "stream",
          "text": [
            "           date  gender region  sales\n",
            "5      9/6/2022    Male  South  21792\n",
            "6     8/21/2022    Male  South  20113\n",
            "8    11/22/2022    Male  South  14594\n",
            "9     1/16/2022  Female  South  24114\n",
            "10   12/21/2022    Male  South  35154\n",
            "..          ...     ...    ...    ...\n",
            "972    6/9/2022    Male  South  22254\n",
            "979  11/24/2022  Female  South  25591\n",
            "981   12/5/2022    Male  South  34334\n",
            "985   12/1/2022  Female  South  21282\n",
            "994   9/29/2022    Male  South  21255\n",
            "\n",
            "[331 rows x 4 columns]\n"
          ]
        }
      ],
      "source": [
        "#selecting group of south region\n",
        "\n",
        "print(df_group.get_group('South'))"
      ]
    },
    {
      "cell_type": "code",
      "execution_count": null,
      "id": "88576235",
      "metadata": {
        "id": "88576235",
        "outputId": "7b9097c7-acda-4061-f4ef-675043cb42c3"
      },
      "outputs": [
        {
          "name": "stdout",
          "output_type": "stream",
          "text": [
            "                   sales\n",
            "region                  \n",
            "North-East  17386.072046\n",
            "North-West  15257.732919\n",
            "South       24466.864048\n"
          ]
        }
      ],
      "source": [
        "#average sales per region\n",
        "\n",
        "print(df_group.mean())"
      ]
    },
    {
      "cell_type": "code",
      "execution_count": null,
      "id": "65cf5622",
      "metadata": {
        "id": "65cf5622",
        "outputId": "086449e7-54a8-49e9-cb10-55878765e790"
      },
      "outputs": [
        {
          "name": "stdout",
          "output_type": "stream",
          "text": [
            "                    mean   median           var\n",
            "region                                         \n",
            "North-East  17386.072046  17414.0  4.131225e+06\n",
            "North-West  15257.732919  15337.5  1.311495e+07\n",
            "South       24466.864048  24492.0  2.760139e+07\n"
          ]
        }
      ],
      "source": [
        "#mean median mode\n",
        "\n",
        "# Group by region and calculate mean, median, and variance\n",
        "result = df_group['sales'].agg(['mean', 'median', 'var'])\n",
        "\n",
        "# Display the result\n",
        "print(result)"
      ]
    },
    {
      "cell_type": "code",
      "execution_count": null,
      "id": "63ad6619",
      "metadata": {
        "id": "63ad6619",
        "outputId": "da3d39d6-8fe6-442c-de6e-84699505365e"
      },
      "outputs": [
        {
          "data": {
            "text/plain": [
              "0      4912990\n",
              "1      6032967\n",
              "2      6032967\n",
              "3      6032967\n",
              "4      4912990\n",
              "        ...   \n",
              "995    4912990\n",
              "996    6032967\n",
              "997    6032967\n",
              "998    6032967\n",
              "999    4912990\n",
              "Name: sales, Length: 1000, dtype: int64"
            ]
          },
          "execution_count": 12,
          "metadata": {},
          "output_type": "execute_result"
        }
      ],
      "source": [
        "df_group['sales'].transform('sum')"
      ]
    },
    {
      "cell_type": "code",
      "execution_count": null,
      "id": "d416666b",
      "metadata": {
        "id": "d416666b",
        "outputId": "e08d4950-920a-4a19-e6d4-3b39a799ae2d"
      },
      "outputs": [
        {
          "name": "stdout",
          "output_type": "stream",
          "text": [
            "           date  gender      region  sales  sales_percentage\n",
            "0     8/22/2022    Male  North-West  20381          0.414839\n",
            "1      3/5/2022    Male  North-East  14495          0.240263\n",
            "2      2/9/2022    Male  North-East  13510          0.223936\n",
            "3     6/22/2022    Male  North-East  15983          0.264928\n",
            "4     8/10/2022  Female  North-West  15007          0.305456\n",
            "..          ...     ...         ...    ...               ...\n",
            "995    6/2/2022  Female  North-West  14015          0.285264\n",
            "996   5/20/2022  Female  North-East  15503          0.256971\n",
            "997    4/2/2022    Male  North-East  18714          0.310196\n",
            "998   12/7/2022    Male  North-East  19910          0.330020\n",
            "999  12/19/2022  Female  North-West  16589          0.337656\n",
            "\n",
            "[1000 rows x 5 columns]\n"
          ]
        }
      ],
      "source": [
        "# Calculate the total sales per region\n",
        "\n",
        "df['sales_percentage'] = df['sales'] /(df_group['sales'].transform('sum'))*100\n",
        "\n",
        "print(df)"
      ]
    },
    {
      "cell_type": "code",
      "execution_count": null,
      "id": "c6dd04ac",
      "metadata": {
        "id": "c6dd04ac",
        "outputId": "34abea70-1dce-4383-b397-7736c953af23"
      },
      "outputs": [
        {
          "name": "stdout",
          "output_type": "stream",
          "text": [
            "           date  gender      region  sales  sales_percentage\n",
            "0     8/22/2022    Male  North-West  20381          0.414839\n",
            "1      3/5/2022    Male  North-East  14495          0.240263\n",
            "2      2/9/2022    Male  North-East  13510          0.223936\n",
            "3     6/22/2022    Male  North-East  15983          0.264928\n",
            "4     8/10/2022  Female  North-West  15007          0.305456\n",
            "..          ...     ...         ...    ...               ...\n",
            "995    6/2/2022  Female  North-West  14015          0.285264\n",
            "996   5/20/2022  Female  North-East  15503          0.256971\n",
            "997    4/2/2022    Male  North-East  18714          0.310196\n",
            "998   12/7/2022    Male  North-East  19910          0.330020\n",
            "999  12/19/2022  Female  North-West  16589          0.337656\n",
            "\n",
            "[669 rows x 5 columns]\n"
          ]
        }
      ],
      "source": [
        "# filtering rows where groups average sales price is less than 20000\n",
        "\n",
        "# Calculate the average sales price for each group\n",
        "group_avg = df_group['sales'].mean()\n",
        "\n",
        "# Filter rows where the average sales price is less than 20000\n",
        "filtered_df = df_group.filter(lambda x: group_avg[x.name] < 20000)\n",
        "\n",
        "print(filtered_df)"
      ]
    },
    {
      "cell_type": "code",
      "execution_count": null,
      "id": "017745fb",
      "metadata": {
        "id": "017745fb",
        "outputId": "f899f46f-48ee-482e-a3e4-9ad553a6ecc4"
      },
      "outputs": [
        {
          "name": "stdout",
          "output_type": "stream",
          "text": [
            "region      gender\n",
            "North-East  Female    3051132\n",
            "            Male      2981835\n",
            "North-West  Female    2455899\n",
            "            Male      2457091\n",
            "South       Female    4135688\n",
            "            Male      3962844\n",
            "Name: sales, dtype: int64\n"
          ]
        }
      ],
      "source": [
        "#calculate sum of all sales broken out by region and by gender\n",
        "\n",
        "# Calculate the sum of sales broken out by region and gender\n",
        "sum_by_region_gender = df.groupby(['region', 'gender'])['sales'].sum()\n",
        "\n",
        "# Display the result\n",
        "print(sum_by_region_gender)"
      ]
    },
    {
      "cell_type": "code",
      "execution_count": null,
      "id": "71460202",
      "metadata": {
        "id": "71460202",
        "outputId": "7837cd1d-6337-4221-bcf1-aad4da7a67a7"
      },
      "outputs": [
        {
          "name": "stdout",
          "output_type": "stream",
          "text": [
            "           date  gender      region  sales  sales_percentage  sales_rank\n",
            "0     8/22/2022    Male  North-West  20381          0.414839       151.0\n",
            "1      3/5/2022    Male  North-East  14495          0.240263        17.0\n",
            "2      2/9/2022    Male  North-East  13510          0.223936         3.0\n",
            "3     6/22/2022    Male  North-East  15983          0.264928        33.0\n",
            "4     8/10/2022  Female  North-West  15007          0.305456        72.5\n",
            "..          ...     ...         ...    ...               ...         ...\n",
            "995    6/2/2022  Female  North-West  14015          0.285264        60.0\n",
            "996   5/20/2022  Female  North-East  15503          0.256971        33.0\n",
            "997    4/2/2022    Male  North-East  18714          0.310196       123.0\n",
            "998   12/7/2022    Male  North-East  19910          0.330020       149.0\n",
            "999  12/19/2022  Female  North-West  16589          0.337656        97.0\n",
            "\n",
            "[1000 rows x 6 columns]\n"
          ]
        }
      ],
      "source": [
        "# Rank sales by region and gender\n",
        "df['sales_rank'] = df.groupby(['region', 'gender'])['sales'].rank()\n",
        "\n",
        "# Display the result\n",
        "print(df)"
      ]
    },
    {
      "cell_type": "code",
      "execution_count": null,
      "id": "a27b0d72",
      "metadata": {
        "id": "a27b0d72",
        "outputId": "93a00aa9-75d5-4810-dcd2-f31743826dd2"
      },
      "outputs": [
        {
          "data": {
            "text/html": [
              "<div>\n",
              "<style scoped>\n",
              "    .dataframe tbody tr th:only-of-type {\n",
              "        vertical-align: middle;\n",
              "    }\n",
              "\n",
              "    .dataframe tbody tr th {\n",
              "        vertical-align: top;\n",
              "    }\n",
              "\n",
              "    .dataframe thead th {\n",
              "        text-align: right;\n",
              "    }\n",
              "</style>\n",
              "<table border=\"1\" class=\"dataframe\">\n",
              "  <thead>\n",
              "    <tr style=\"text-align: right;\">\n",
              "      <th></th>\n",
              "      <th>date</th>\n",
              "      <th>gender</th>\n",
              "      <th>region</th>\n",
              "      <th>sales</th>\n",
              "      <th>sales_percentage</th>\n",
              "    </tr>\n",
              "  </thead>\n",
              "  <tbody>\n",
              "    <tr>\n",
              "      <th>0</th>\n",
              "      <td>8/22/2022</td>\n",
              "      <td>Male</td>\n",
              "      <td>North-West</td>\n",
              "      <td>20381</td>\n",
              "      <td>0.414839</td>\n",
              "    </tr>\n",
              "    <tr>\n",
              "      <th>1</th>\n",
              "      <td>3/5/2022</td>\n",
              "      <td>Male</td>\n",
              "      <td>North-East</td>\n",
              "      <td>14495</td>\n",
              "      <td>0.240263</td>\n",
              "    </tr>\n",
              "    <tr>\n",
              "      <th>2</th>\n",
              "      <td>2/9/2022</td>\n",
              "      <td>Male</td>\n",
              "      <td>North-East</td>\n",
              "      <td>13510</td>\n",
              "      <td>0.223936</td>\n",
              "    </tr>\n",
              "    <tr>\n",
              "      <th>3</th>\n",
              "      <td>6/22/2022</td>\n",
              "      <td>Male</td>\n",
              "      <td>North-East</td>\n",
              "      <td>15983</td>\n",
              "      <td>0.264928</td>\n",
              "    </tr>\n",
              "    <tr>\n",
              "      <th>4</th>\n",
              "      <td>8/10/2022</td>\n",
              "      <td>Female</td>\n",
              "      <td>North-West</td>\n",
              "      <td>15007</td>\n",
              "      <td>0.305456</td>\n",
              "    </tr>\n",
              "    <tr>\n",
              "      <th>...</th>\n",
              "      <td>...</td>\n",
              "      <td>...</td>\n",
              "      <td>...</td>\n",
              "      <td>...</td>\n",
              "      <td>...</td>\n",
              "    </tr>\n",
              "    <tr>\n",
              "      <th>995</th>\n",
              "      <td>6/2/2022</td>\n",
              "      <td>Female</td>\n",
              "      <td>North-West</td>\n",
              "      <td>14015</td>\n",
              "      <td>0.285264</td>\n",
              "    </tr>\n",
              "    <tr>\n",
              "      <th>996</th>\n",
              "      <td>5/20/2022</td>\n",
              "      <td>Female</td>\n",
              "      <td>North-East</td>\n",
              "      <td>15503</td>\n",
              "      <td>0.256971</td>\n",
              "    </tr>\n",
              "    <tr>\n",
              "      <th>997</th>\n",
              "      <td>4/2/2022</td>\n",
              "      <td>Male</td>\n",
              "      <td>North-East</td>\n",
              "      <td>18714</td>\n",
              "      <td>0.310196</td>\n",
              "    </tr>\n",
              "    <tr>\n",
              "      <th>998</th>\n",
              "      <td>12/7/2022</td>\n",
              "      <td>Male</td>\n",
              "      <td>North-East</td>\n",
              "      <td>19910</td>\n",
              "      <td>0.330020</td>\n",
              "    </tr>\n",
              "    <tr>\n",
              "      <th>999</th>\n",
              "      <td>12/19/2022</td>\n",
              "      <td>Female</td>\n",
              "      <td>North-West</td>\n",
              "      <td>16589</td>\n",
              "      <td>0.337656</td>\n",
              "    </tr>\n",
              "  </tbody>\n",
              "</table>\n",
              "<p>669 rows × 5 columns</p>\n",
              "</div>"
            ],
            "text/plain": [
              "           date  gender      region  sales  sales_percentage\n",
              "0     8/22/2022    Male  North-West  20381          0.414839\n",
              "1      3/5/2022    Male  North-East  14495          0.240263\n",
              "2      2/9/2022    Male  North-East  13510          0.223936\n",
              "3     6/22/2022    Male  North-East  15983          0.264928\n",
              "4     8/10/2022  Female  North-West  15007          0.305456\n",
              "..          ...     ...         ...    ...               ...\n",
              "995    6/2/2022  Female  North-West  14015          0.285264\n",
              "996   5/20/2022  Female  North-East  15503          0.256971\n",
              "997    4/2/2022    Male  North-East  18714          0.310196\n",
              "998   12/7/2022    Male  North-East  19910          0.330020\n",
              "999  12/19/2022  Female  North-West  16589          0.337656\n",
              "\n",
              "[669 rows x 5 columns]"
            ]
          },
          "execution_count": 17,
          "metadata": {},
          "output_type": "execute_result"
        }
      ],
      "source": [
        "filtered_df"
      ]
    },
    {
      "cell_type": "code",
      "execution_count": null,
      "id": "19ce932b",
      "metadata": {
        "id": "19ce932b"
      },
      "outputs": [],
      "source": []
    }
  ],
  "metadata": {
    "kernelspec": {
      "display_name": "Python 3 (ipykernel)",
      "language": "python",
      "name": "python3"
    },
    "language_info": {
      "codemirror_mode": {
        "name": "ipython",
        "version": 3
      },
      "file_extension": ".py",
      "mimetype": "text/x-python",
      "name": "python",
      "nbconvert_exporter": "python",
      "pygments_lexer": "ipython3",
      "version": "3.9.12"
    },
    "colab": {
      "provenance": [],
      "include_colab_link": true
    }
  },
  "nbformat": 4,
  "nbformat_minor": 5
}