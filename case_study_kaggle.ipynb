{
  "cells": [
    {
      "cell_type": "markdown",
      "metadata": {
        "id": "view-in-github",
        "colab_type": "text"
      },
      "source": [
        "<a href=\"https://colab.research.google.com/github/Anushree-B/assignments/blob/main/case_study_kaggle.ipynb\" target=\"_parent\"><img src=\"https://colab.research.google.com/assets/colab-badge.svg\" alt=\"Open In Colab\"/></a>"
      ]
    },
    {
      "cell_type": "code",
      "execution_count": null,
      "id": "cfb4058f",
      "metadata": {
        "execution": {
          "iopub.execute_input": "2022-03-13T16:20:44.397060Z",
          "iopub.status.busy": "2022-03-13T16:20:44.395350Z",
          "iopub.status.idle": "2022-03-13T16:20:45.518101Z",
          "shell.execute_reply": "2022-03-13T16:20:45.517347Z",
          "shell.execute_reply.started": "2022-03-13T16:15:54.706038Z"
        },
        "papermill": {
          "duration": 1.155974,
          "end_time": "2022-03-13T16:20:45.518287",
          "exception": false,
          "start_time": "2022-03-13T16:20:44.362313",
          "status": "completed"
        },
        "tags": [],
        "id": "cfb4058f"
      },
      "outputs": [],
      "source": [
        "# importing the packages\n",
        "import numpy as np\n",
        "import pandas as pd\n",
        "from matplotlib import pyplot as plt\n",
        "import seaborn as sns\n",
        "%matplotlib inline"
      ]
    },
    {
      "cell_type": "code",
      "execution_count": null,
      "id": "3e5ca0ae",
      "metadata": {
        "execution": {
          "iopub.execute_input": "2022-03-13T16:20:45.575377Z",
          "iopub.status.busy": "2022-03-13T16:20:45.574382Z",
          "iopub.status.idle": "2022-03-13T16:20:45.585590Z",
          "shell.execute_reply": "2022-03-13T16:20:45.586179Z",
          "shell.execute_reply.started": "2022-03-13T16:15:54.715715Z"
        },
        "papermill": {
          "duration": 0.040857,
          "end_time": "2022-03-13T16:20:45.586358",
          "exception": false,
          "start_time": "2022-03-13T16:20:45.545501",
          "status": "completed"
        },
        "tags": [],
        "id": "3e5ca0ae",
        "outputId": "a5666551-47d2-4288-ab49-b22a2680aecd"
      },
      "outputs": [
        {
          "name": "stdout",
          "output_type": "stream",
          "text": [
            "/kaggle/input/python-case-study-4-python-visualization/SalesData.csv\n"
          ]
        }
      ],
      "source": [
        "# This Python 3 environment comes with many helpful analytics libraries installed\n",
        "# It is defined by the kaggle/python Docker image: https://github.com/kaggle/docker-python\n",
        "# For example, here's several helpful packages to load\n",
        "\n",
        "import numpy as np # linear algebra\n",
        "import pandas as pd # data processing, CSV file I/O (e.g. pd.read_csv)\n",
        "\n",
        "# Input data files are available in the read-only \"../input/\" directory\n",
        "# For example, running this (by clicking run or pressing Shift+Enter) will list all files under the input directory\n",
        "\n",
        "import os\n",
        "for dirname, _, filenames in os.walk('/kaggle/input'):\n",
        "    for filename in filenames:\n",
        "        print(os.path.join(dirname, filename))\n",
        "\n",
        "# You can write up to 20GB to the current directory (/kaggle/working/) that gets preserved as output when you create a version using \"Save & Run All\"\n",
        "# You can also write temporary files to /kaggle/temp/, but they won't be saved outside of the current session"
      ]
    },
    {
      "cell_type": "code",
      "execution_count": null,
      "id": "4e86d641",
      "metadata": {
        "execution": {
          "iopub.execute_input": "2022-03-13T16:20:45.644450Z",
          "iopub.status.busy": "2022-03-13T16:20:45.642480Z",
          "iopub.status.idle": "2022-03-13T16:20:45.669418Z",
          "shell.execute_reply": "2022-03-13T16:20:45.669975Z",
          "shell.execute_reply.started": "2022-03-13T16:15:54.733779Z"
        },
        "papermill": {
          "duration": 0.057014,
          "end_time": "2022-03-13T16:20:45.670185",
          "exception": false,
          "start_time": "2022-03-13T16:20:45.613171",
          "status": "completed"
        },
        "tags": [],
        "id": "4e86d641"
      },
      "outputs": [],
      "source": [
        "# importing the datdaset\n",
        "SalesData = pd.read_csv(\"../input/python-case-study-4-python-visualization/SalesData.csv\")"
      ]
    },
    {
      "cell_type": "code",
      "execution_count": null,
      "id": "6d3764dd",
      "metadata": {
        "execution": {
          "iopub.execute_input": "2022-03-13T16:20:45.729083Z",
          "iopub.status.busy": "2022-03-13T16:20:45.728067Z",
          "iopub.status.idle": "2022-03-13T16:20:45.754412Z",
          "shell.execute_reply": "2022-03-13T16:20:45.754915Z",
          "shell.execute_reply.started": "2022-03-13T16:15:54.769576Z"
        },
        "papermill": {
          "duration": 0.057392,
          "end_time": "2022-03-13T16:20:45.755102",
          "exception": false,
          "start_time": "2022-03-13T16:20:45.697710",
          "status": "completed"
        },
        "tags": [],
        "id": "6d3764dd",
        "outputId": "ad4660b2-704c-4e72-cf83-e86c64c8e16d"
      },
      "outputs": [
        {
          "data": {
            "text/html": [
              "<div>\n",
              "<style scoped>\n",
              "    .dataframe tbody tr th:only-of-type {\n",
              "        vertical-align: middle;\n",
              "    }\n",
              "\n",
              "    .dataframe tbody tr th {\n",
              "        vertical-align: top;\n",
              "    }\n",
              "\n",
              "    .dataframe thead th {\n",
              "        text-align: right;\n",
              "    }\n",
              "</style>\n",
              "<table border=\"1\" class=\"dataframe\">\n",
              "  <thead>\n",
              "    <tr style=\"text-align: right;\">\n",
              "      <th></th>\n",
              "      <th>AccountId</th>\n",
              "      <th>AccountName</th>\n",
              "      <th>Region</th>\n",
              "      <th>Division</th>\n",
              "      <th>City</th>\n",
              "      <th>State</th>\n",
              "      <th>Tier</th>\n",
              "      <th>Month</th>\n",
              "      <th>Sales2015</th>\n",
              "      <th>Sales2016</th>\n",
              "      <th>Units2015</th>\n",
              "      <th>Units2016</th>\n",
              "      <th>TargetAchevied2015</th>\n",
              "      <th>TargetAchevied2016</th>\n",
              "    </tr>\n",
              "  </thead>\n",
              "  <tbody>\n",
              "    <tr>\n",
              "      <th>0</th>\n",
              "      <td>1116</td>\n",
              "      <td>Account1</td>\n",
              "      <td>West</td>\n",
              "      <td>DIAMONDBACK</td>\n",
              "      <td>PHOENIX W</td>\n",
              "      <td>AZ</td>\n",
              "      <td>Low</td>\n",
              "      <td>Aug</td>\n",
              "      <td>0.00</td>\n",
              "      <td>13208.52</td>\n",
              "      <td>0.0</td>\n",
              "      <td>4.0</td>\n",
              "      <td>0.70</td>\n",
              "      <td>1.53</td>\n",
              "    </tr>\n",
              "    <tr>\n",
              "      <th>1</th>\n",
              "      <td>1116</td>\n",
              "      <td>Account1</td>\n",
              "      <td>West</td>\n",
              "      <td>DIAMONDBACK</td>\n",
              "      <td>PHOENIX W</td>\n",
              "      <td>AZ</td>\n",
              "      <td>Low</td>\n",
              "      <td>Oct</td>\n",
              "      <td>10500.78</td>\n",
              "      <td>23114.91</td>\n",
              "      <td>3.0</td>\n",
              "      <td>7.0</td>\n",
              "      <td>0.84</td>\n",
              "      <td>1.31</td>\n",
              "    </tr>\n",
              "    <tr>\n",
              "      <th>2</th>\n",
              "      <td>2391</td>\n",
              "      <td>Account2</td>\n",
              "      <td>East</td>\n",
              "      <td>MINUTEMEN</td>\n",
              "      <td>HARTFORD</td>\n",
              "      <td>CT</td>\n",
              "      <td>Med</td>\n",
              "      <td>Jun</td>\n",
              "      <td>0.00</td>\n",
              "      <td>6627.00</td>\n",
              "      <td>0.0</td>\n",
              "      <td>3.0</td>\n",
              "      <td>1.15</td>\n",
              "      <td>1.29</td>\n",
              "    </tr>\n",
              "    <tr>\n",
              "      <th>3</th>\n",
              "      <td>2391</td>\n",
              "      <td>Account2</td>\n",
              "      <td>East</td>\n",
              "      <td>MINUTEMEN</td>\n",
              "      <td>HARTFORD</td>\n",
              "      <td>CT</td>\n",
              "      <td>Med</td>\n",
              "      <td>Mar</td>\n",
              "      <td>19881.00</td>\n",
              "      <td>13254.00</td>\n",
              "      <td>9.0</td>\n",
              "      <td>6.0</td>\n",
              "      <td>1.33</td>\n",
              "      <td>1.17</td>\n",
              "    </tr>\n",
              "    <tr>\n",
              "      <th>4</th>\n",
              "      <td>2397</td>\n",
              "      <td>Account3</td>\n",
              "      <td>East</td>\n",
              "      <td>MINUTEMEN</td>\n",
              "      <td>WORCESTER</td>\n",
              "      <td>MA</td>\n",
              "      <td>Med</td>\n",
              "      <td>Sep</td>\n",
              "      <td>3684.48</td>\n",
              "      <td>0.00</td>\n",
              "      <td>1.0</td>\n",
              "      <td>0.0</td>\n",
              "      <td>1.02</td>\n",
              "      <td>1.53</td>\n",
              "    </tr>\n",
              "  </tbody>\n",
              "</table>\n",
              "</div>"
            ],
            "text/plain": [
              "   AccountId AccountName Region     Division       City State Tier Month  \\\n",
              "0       1116    Account1   West  DIAMONDBACK  PHOENIX W    AZ  Low   Aug   \n",
              "1       1116    Account1   West  DIAMONDBACK  PHOENIX W    AZ  Low   Oct   \n",
              "2       2391    Account2   East    MINUTEMEN   HARTFORD    CT  Med   Jun   \n",
              "3       2391    Account2   East    MINUTEMEN   HARTFORD    CT  Med   Mar   \n",
              "4       2397    Account3   East    MINUTEMEN  WORCESTER    MA  Med   Sep   \n",
              "\n",
              "   Sales2015  Sales2016  Units2015  Units2016  TargetAchevied2015  \\\n",
              "0       0.00   13208.52        0.0        4.0                0.70   \n",
              "1   10500.78   23114.91        3.0        7.0                0.84   \n",
              "2       0.00    6627.00        0.0        3.0                1.15   \n",
              "3   19881.00   13254.00        9.0        6.0                1.33   \n",
              "4    3684.48       0.00        1.0        0.0                1.02   \n",
              "\n",
              "   TargetAchevied2016  \n",
              "0                1.53  \n",
              "1                1.31  \n",
              "2                1.29  \n",
              "3                1.17  \n",
              "4                1.53  "
            ]
          },
          "execution_count": 4,
          "metadata": {},
          "output_type": "execute_result"
        }
      ],
      "source": [
        "SalesData.head()"
      ]
    },
    {
      "cell_type": "markdown",
      "id": "e8dad731",
      "metadata": {
        "papermill": {
          "duration": 0.027449,
          "end_time": "2022-03-13T16:20:45.812172",
          "exception": false,
          "start_time": "2022-03-13T16:20:45.784723",
          "status": "completed"
        },
        "tags": [],
        "id": "e8dad731"
      },
      "source": [
        "### 1. Compare Sales by region for 2016 with 2015 using bar chart"
      ]
    },
    {
      "cell_type": "code",
      "execution_count": null,
      "id": "72dbf242",
      "metadata": {
        "execution": {
          "iopub.execute_input": "2022-03-13T16:20:45.876027Z",
          "iopub.status.busy": "2022-03-13T16:20:45.875253Z",
          "iopub.status.idle": "2022-03-13T16:20:45.890890Z",
          "shell.execute_reply": "2022-03-13T16:20:45.891352Z",
          "shell.execute_reply.started": "2022-03-13T16:15:54.793031Z"
        },
        "papermill": {
          "duration": 0.051416,
          "end_time": "2022-03-13T16:20:45.891575",
          "exception": false,
          "start_time": "2022-03-13T16:20:45.840159",
          "status": "completed"
        },
        "tags": [],
        "id": "72dbf242"
      },
      "outputs": [],
      "source": [
        "SalesData1 = SalesData.groupby([\"Region\"])[[\"Sales2015\",\"Sales2016\"]].sum()"
      ]
    },
    {
      "cell_type": "code",
      "execution_count": null,
      "id": "0e76c049",
      "metadata": {
        "execution": {
          "iopub.execute_input": "2022-03-13T16:20:45.952445Z",
          "iopub.status.busy": "2022-03-13T16:20:45.951435Z",
          "iopub.status.idle": "2022-03-13T16:20:45.962351Z",
          "shell.execute_reply": "2022-03-13T16:20:45.961879Z",
          "shell.execute_reply.started": "2022-03-13T16:15:54.804756Z"
        },
        "papermill": {
          "duration": 0.041544,
          "end_time": "2022-03-13T16:20:45.962526",
          "exception": false,
          "start_time": "2022-03-13T16:20:45.920982",
          "status": "completed"
        },
        "tags": [],
        "id": "0e76c049",
        "outputId": "74e238c0-21a6-4fe2-f4c7-6e968a9279bd"
      },
      "outputs": [
        {
          "data": {
            "text/html": [
              "<div>\n",
              "<style scoped>\n",
              "    .dataframe tbody tr th:only-of-type {\n",
              "        vertical-align: middle;\n",
              "    }\n",
              "\n",
              "    .dataframe tbody tr th {\n",
              "        vertical-align: top;\n",
              "    }\n",
              "\n",
              "    .dataframe thead th {\n",
              "        text-align: right;\n",
              "    }\n",
              "</style>\n",
              "<table border=\"1\" class=\"dataframe\">\n",
              "  <thead>\n",
              "    <tr style=\"text-align: right;\">\n",
              "      <th></th>\n",
              "      <th>Sales2015</th>\n",
              "      <th>Sales2016</th>\n",
              "    </tr>\n",
              "    <tr>\n",
              "      <th>Region</th>\n",
              "      <th></th>\n",
              "      <th></th>\n",
              "    </tr>\n",
              "  </thead>\n",
              "  <tbody>\n",
              "    <tr>\n",
              "      <th>Central</th>\n",
              "      <td>7.891729e+06</td>\n",
              "      <td>9.787809e+06</td>\n",
              "    </tr>\n",
              "    <tr>\n",
              "      <th>East</th>\n",
              "      <td>9.512916e+06</td>\n",
              "      <td>1.266723e+07</td>\n",
              "    </tr>\n",
              "    <tr>\n",
              "      <th>West</th>\n",
              "      <td>5.349745e+06</td>\n",
              "      <td>7.209689e+06</td>\n",
              "    </tr>\n",
              "  </tbody>\n",
              "</table>\n",
              "</div>"
            ],
            "text/plain": [
              "            Sales2015     Sales2016\n",
              "Region                             \n",
              "Central  7.891729e+06  9.787809e+06\n",
              "East     9.512916e+06  1.266723e+07\n",
              "West     5.349745e+06  7.209689e+06"
            ]
          },
          "execution_count": 6,
          "metadata": {},
          "output_type": "execute_result"
        }
      ],
      "source": [
        "SalesData1"
      ]
    },
    {
      "cell_type": "code",
      "execution_count": null,
      "id": "9349a327",
      "metadata": {
        "execution": {
          "iopub.execute_input": "2022-03-13T16:20:46.023625Z",
          "iopub.status.busy": "2022-03-13T16:20:46.022519Z",
          "iopub.status.idle": "2022-03-13T16:20:46.268135Z",
          "shell.execute_reply": "2022-03-13T16:20:46.268657Z",
          "shell.execute_reply.started": "2022-03-13T16:15:54.825027Z"
        },
        "papermill": {
          "duration": 0.278421,
          "end_time": "2022-03-13T16:20:46.268866",
          "exception": false,
          "start_time": "2022-03-13T16:20:45.990445",
          "status": "completed"
        },
        "tags": [],
        "id": "9349a327",
        "outputId": "b4452379-26cf-4368-c18f-4b030ad80f60"
      },
      "outputs": [
        {
          "data": {
            "image/png": "[encoded data removed]",
            "text/plain": [
              "<Figure size 864x432 with 1 Axes>"
            ]
          },
          "metadata": {
            "needs_background": "light"
          },
          "output_type": "display_data"
        }
      ],
      "source": [
        "SalesData1graph = SalesData1.plot.bar(figsize=(12,6), rot=0)"
      ]
    },
    {
      "cell_type": "markdown",
      "id": "6c90af5e",
      "metadata": {
        "papermill": {
          "duration": 0.027755,
          "end_time": "2022-03-13T16:20:46.327149",
          "exception": false,
          "start_time": "2022-03-13T16:20:46.299394",
          "status": "completed"
        },
        "tags": [],
        "id": "6c90af5e"
      },
      "source": [
        "### 2. What are the contributing factors to the sales for each region in 2016. Visualize it using a Pie Chart."
      ]
    },
    {
      "cell_type": "code",
      "execution_count": null,
      "id": "abf1529c",
      "metadata": {
        "execution": {
          "iopub.execute_input": "2022-03-13T16:20:46.387569Z",
          "iopub.status.busy": "2022-03-13T16:20:46.386875Z",
          "iopub.status.idle": "2022-03-13T16:20:46.594371Z",
          "shell.execute_reply": "2022-03-13T16:20:46.594922Z",
          "shell.execute_reply.started": "2022-03-13T16:15:55.053993Z"
        },
        "papermill": {
          "duration": 0.239976,
          "end_time": "2022-03-13T16:20:46.595117",
          "exception": false,
          "start_time": "2022-03-13T16:20:46.355141",
          "status": "completed"
        },
        "tags": [],
        "id": "abf1529c",
        "outputId": "ce7d4a6b-8b41-4481-dffa-367c9a06c4b3"
      },
      "outputs": [
        {
          "data": {
            "text/plain": [
              "array([<AxesSubplot:ylabel='Sales2016'>], dtype=object)"
            ]
          },
          "execution_count": 8,
          "metadata": {},
          "output_type": "execute_result"
        },
        {
          "data": {
            "image/png": "[encoded data removed]",
            "text/plain": [
              "<Figure size 432x288 with 1 Axes>"
            ]
          },
          "metadata": {},
          "output_type": "display_data"
        }
      ],
      "source": [
        "SalesData2 = SalesData.groupby([\"Region\"])[[\"Sales2016\"]].sum()\n",
        "pieLabels = ['Central', 'East', 'West']\n",
        "SalesData2.plot(kind='pie',\n",
        "            labels=pieLabels,\n",
        "            colors=['r', 'g', 'b'],\n",
        "            autopct='%1.1f%%', # to get percentage and round off appropriately\n",
        "            fontsize=10,\n",
        "            subplots='true')"
      ]
    },
    {
      "cell_type": "markdown",
      "id": "41915276",
      "metadata": {
        "papermill": {
          "duration": 0.029983,
          "end_time": "2022-03-13T16:20:46.655113",
          "exception": false,
          "start_time": "2022-03-13T16:20:46.625130",
          "status": "completed"
        },
        "tags": [],
        "id": "41915276"
      },
      "source": [
        "### 3. Compare the total sales of 2015 and 2016 with respect to Region and Tiers"
      ]
    },
    {
      "cell_type": "code",
      "execution_count": null,
      "id": "bcbe9db1",
      "metadata": {
        "execution": {
          "iopub.execute_input": "2022-03-13T16:20:46.719887Z",
          "iopub.status.busy": "2022-03-13T16:20:46.719056Z",
          "iopub.status.idle": "2022-03-13T16:20:46.727359Z",
          "shell.execute_reply": "2022-03-13T16:20:46.727891Z",
          "shell.execute_reply.started": "2022-03-13T16:15:55.266334Z"
        },
        "papermill": {
          "duration": 0.043019,
          "end_time": "2022-03-13T16:20:46.728095",
          "exception": false,
          "start_time": "2022-03-13T16:20:46.685076",
          "status": "completed"
        },
        "tags": [],
        "id": "bcbe9db1"
      },
      "outputs": [],
      "source": [
        "SalesData3 = SalesData.groupby([\"Region\",\"Tier\"])[[\"Sales2015\",\"Sales2016\"]].sum()"
      ]
    },
    {
      "cell_type": "code",
      "execution_count": null,
      "id": "21096f30",
      "metadata": {
        "execution": {
          "iopub.execute_input": "2022-03-13T16:20:46.801190Z",
          "iopub.status.busy": "2022-03-13T16:20:46.800519Z",
          "iopub.status.idle": "2022-03-13T16:20:46.805016Z",
          "shell.execute_reply": "2022-03-13T16:20:46.804361Z",
          "shell.execute_reply.started": "2022-03-13T16:15:55.287128Z"
        },
        "papermill": {
          "duration": 0.046823,
          "end_time": "2022-03-13T16:20:46.805175",
          "exception": false,
          "start_time": "2022-03-13T16:20:46.758352",
          "status": "completed"
        },
        "tags": [],
        "id": "21096f30",
        "outputId": "71454f50-924a-4ece-fb6b-4f0ecd9b0427"
      },
      "outputs": [
        {
          "data": {
            "text/html": [
              "<div>\n",
              "<style scoped>\n",
              "    .dataframe tbody tr th:only-of-type {\n",
              "        vertical-align: middle;\n",
              "    }\n",
              "\n",
              "    .dataframe tbody tr th {\n",
              "        vertical-align: top;\n",
              "    }\n",
              "\n",
              "    .dataframe thead th {\n",
              "        text-align: right;\n",
              "    }\n",
              "</style>\n",
              "<table border=\"1\" class=\"dataframe\">\n",
              "  <thead>\n",
              "    <tr style=\"text-align: right;\">\n",
              "      <th></th>\n",
              "      <th></th>\n",
              "      <th>Sales2015</th>\n",
              "      <th>Sales2016</th>\n",
              "    </tr>\n",
              "    <tr>\n",
              "      <th>Region</th>\n",
              "      <th>Tier</th>\n",
              "      <th></th>\n",
              "      <th></th>\n",
              "    </tr>\n",
              "  </thead>\n",
              "  <tbody>\n",
              "    <tr>\n",
              "      <th rowspan=\"4\" valign=\"top\">Central</th>\n",
              "      <th>High</th>\n",
              "      <td>4.798698e+06</td>\n",
              "      <td>6.026043e+06</td>\n",
              "    </tr>\n",
              "    <tr>\n",
              "      <th>Low</th>\n",
              "      <td>9.434397e+05</td>\n",
              "      <td>1.132833e+06</td>\n",
              "    </tr>\n",
              "    <tr>\n",
              "      <th>Med</th>\n",
              "      <td>2.068226e+06</td>\n",
              "      <td>2.632181e+06</td>\n",
              "    </tr>\n",
              "    <tr>\n",
              "      <th>Out</th>\n",
              "      <td>8.136489e+04</td>\n",
              "      <td>-3.248530e+03</td>\n",
              "    </tr>\n",
              "    <tr>\n",
              "      <th rowspan=\"4\" valign=\"top\">East</th>\n",
              "      <th>High</th>\n",
              "      <td>6.102946e+06</td>\n",
              "      <td>7.817151e+06</td>\n",
              "    </tr>\n",
              "    <tr>\n",
              "      <th>Low</th>\n",
              "      <td>9.016658e+05</td>\n",
              "      <td>1.144930e+06</td>\n",
              "    </tr>\n",
              "    <tr>\n",
              "      <th>Med</th>\n",
              "      <td>2.470998e+06</td>\n",
              "      <td>3.705150e+06</td>\n",
              "    </tr>\n",
              "    <tr>\n",
              "      <th>Out</th>\n",
              "      <td>3.730655e+04</td>\n",
              "      <td>0.000000e+00</td>\n",
              "    </tr>\n",
              "    <tr>\n",
              "      <th rowspan=\"4\" valign=\"top\">West</th>\n",
              "      <th>High</th>\n",
              "      <td>2.944789e+06</td>\n",
              "      <td>3.768038e+06</td>\n",
              "    </tr>\n",
              "    <tr>\n",
              "      <th>Low</th>\n",
              "      <td>6.710644e+05</td>\n",
              "      <td>1.099502e+06</td>\n",
              "    </tr>\n",
              "    <tr>\n",
              "      <th>Med</th>\n",
              "      <td>1.718476e+06</td>\n",
              "      <td>2.342149e+06</td>\n",
              "    </tr>\n",
              "    <tr>\n",
              "      <th>Out</th>\n",
              "      <td>1.541508e+04</td>\n",
              "      <td>0.000000e+00</td>\n",
              "    </tr>\n",
              "  </tbody>\n",
              "</table>\n",
              "</div>"
            ],
            "text/plain": [
              "                 Sales2015     Sales2016\n",
              "Region  Tier                            \n",
              "Central High  4.798698e+06  6.026043e+06\n",
              "        Low   9.434397e+05  1.132833e+06\n",
              "        Med   2.068226e+06  2.632181e+06\n",
              "        Out   8.136489e+04 -3.248530e+03\n",
              "East    High  6.102946e+06  7.817151e+06\n",
              "        Low   9.016658e+05  1.144930e+06\n",
              "        Med   2.470998e+06  3.705150e+06\n",
              "        Out   3.730655e+04  0.000000e+00\n",
              "West    High  2.944789e+06  3.768038e+06\n",
              "        Low   6.710644e+05  1.099502e+06\n",
              "        Med   1.718476e+06  2.342149e+06\n",
              "        Out   1.541508e+04  0.000000e+00"
            ]
          },
          "execution_count": 10,
          "metadata": {},
          "output_type": "execute_result"
        }
      ],
      "source": [
        "SalesData3"
      ]
    },
    {
      "cell_type": "code",
      "execution_count": null,
      "id": "f604674f",
      "metadata": {
        "execution": {
          "iopub.execute_input": "2022-03-13T16:20:46.896591Z",
          "iopub.status.busy": "2022-03-13T16:20:46.891430Z",
          "iopub.status.idle": "2022-03-13T16:20:47.168032Z",
          "shell.execute_reply": "2022-03-13T16:20:47.167040Z",
          "shell.execute_reply.started": "2022-03-13T16:15:55.314691Z"
        },
        "papermill": {
          "duration": 0.33349,
          "end_time": "2022-03-13T16:20:47.168204",
          "exception": false,
          "start_time": "2022-03-13T16:20:46.834714",
          "status": "completed"
        },
        "tags": [],
        "id": "f604674f",
        "outputId": "d90e51e9-9181-489b-c3c4-16b4eb308823"
      },
      "outputs": [
        {
          "data": {
            "image/png": "[encoded data removed]",
            "text/plain": [
              "<Figure size 1080x432 with 1 Axes>"
            ]
          },
          "metadata": {
            "needs_background": "light"
          },
          "output_type": "display_data"
        }
      ],
      "source": [
        "SalesData3graph = SalesData3.plot.bar(figsize=(15,6),rot=0)"
      ]
    },
    {
      "cell_type": "markdown",
      "id": "c9e9da41",
      "metadata": {
        "papermill": {
          "duration": 0.030012,
          "end_time": "2022-03-13T16:20:47.229006",
          "exception": false,
          "start_time": "2022-03-13T16:20:47.198994",
          "status": "completed"
        },
        "tags": [],
        "id": "c9e9da41"
      },
      "source": [
        "### 4. In East region, which state registered a decline in 2016 as compared to 2015?"
      ]
    },
    {
      "cell_type": "code",
      "execution_count": null,
      "id": "06ba7c6f",
      "metadata": {
        "execution": {
          "iopub.execute_input": "2022-03-13T16:20:47.295151Z",
          "iopub.status.busy": "2022-03-13T16:20:47.294376Z",
          "iopub.status.idle": "2022-03-13T16:20:47.304394Z",
          "shell.execute_reply": "2022-03-13T16:20:47.304977Z",
          "shell.execute_reply.started": "2022-03-13T16:15:55.707399Z"
        },
        "papermill": {
          "duration": 0.045021,
          "end_time": "2022-03-13T16:20:47.305177",
          "exception": false,
          "start_time": "2022-03-13T16:20:47.260156",
          "status": "completed"
        },
        "tags": [],
        "id": "06ba7c6f"
      },
      "outputs": [],
      "source": [
        "SalesData4 = SalesData.groupby([\"Region\",\"State\"])[[\"Sales2015\",\"Sales2016\"]].sum().reset_index()"
      ]
    },
    {
      "cell_type": "code",
      "execution_count": null,
      "id": "9e5ad302",
      "metadata": {
        "execution": {
          "iopub.execute_input": "2022-03-13T16:20:47.376960Z",
          "iopub.status.busy": "2022-03-13T16:20:47.376263Z",
          "iopub.status.idle": "2022-03-13T16:20:47.378766Z",
          "shell.execute_reply": "2022-03-13T16:20:47.379274Z",
          "shell.execute_reply.started": "2022-03-13T16:15:55.723545Z"
        },
        "papermill": {
          "duration": 0.042721,
          "end_time": "2022-03-13T16:20:47.379450",
          "exception": false,
          "start_time": "2022-03-13T16:20:47.336729",
          "status": "completed"
        },
        "tags": [],
        "id": "9e5ad302"
      },
      "outputs": [],
      "source": [
        "SalesData4_East = SalesData4.loc[SalesData4.Region == 'East', ['Sales2015','Sales2016','State']]"
      ]
    },
    {
      "cell_type": "code",
      "execution_count": null,
      "id": "8bd7724e",
      "metadata": {
        "execution": {
          "iopub.execute_input": "2022-03-13T16:20:47.446804Z",
          "iopub.status.busy": "2022-03-13T16:20:47.446195Z",
          "iopub.status.idle": "2022-03-13T16:20:47.449511Z",
          "shell.execute_reply": "2022-03-13T16:20:47.448991Z",
          "shell.execute_reply.started": "2022-03-13T16:15:55.738008Z"
        },
        "papermill": {
          "duration": 0.039668,
          "end_time": "2022-03-13T16:20:47.449661",
          "exception": false,
          "start_time": "2022-03-13T16:20:47.409993",
          "status": "completed"
        },
        "tags": [],
        "id": "8bd7724e"
      },
      "outputs": [],
      "source": [
        "SalesData4_East = SalesData4_East.set_index('State')"
      ]
    },
    {
      "cell_type": "code",
      "execution_count": null,
      "id": "290e7502",
      "metadata": {
        "execution": {
          "iopub.execute_input": "2022-03-13T16:20:47.536683Z",
          "iopub.status.busy": "2022-03-13T16:20:47.536010Z",
          "iopub.status.idle": "2022-03-13T16:20:47.808639Z",
          "shell.execute_reply": "2022-03-13T16:20:47.809092Z",
          "shell.execute_reply.started": "2022-03-13T16:15:55.750615Z"
        },
        "papermill": {
          "duration": 0.329236,
          "end_time": "2022-03-13T16:20:47.809296",
          "exception": false,
          "start_time": "2022-03-13T16:20:47.480060",
          "status": "completed"
        },
        "tags": [],
        "id": "290e7502",
        "outputId": "6d778c2f-5c5e-40cf-9d05-f1dd8dcd76c1"
      },
      "outputs": [
        {
          "name": "stdout",
          "output_type": "stream",
          "text": [
            "In the East Region, NY registered a decline in 2016\n"
          ]
        },
        {
          "data": {
            "image/png": "[encoded data removed]",
            "text/plain": [
              "<Figure size 1080x432 with 1 Axes>"
            ]
          },
          "metadata": {
            "needs_background": "light"
          },
          "output_type": "display_data"
        }
      ],
      "source": [
        "SalesData4graph = SalesData4_East.plot.bar(figsize=(15,6),rot=0)\n",
        "print('In the East Region, NY registered a decline in 2016')"
      ]
    },
    {
      "cell_type": "markdown",
      "id": "9e33d779",
      "metadata": {
        "papermill": {
          "duration": 0.031678,
          "end_time": "2022-03-13T16:20:47.873195",
          "exception": false,
          "start_time": "2022-03-13T16:20:47.841517",
          "status": "completed"
        },
        "tags": [],
        "id": "9e33d779"
      },
      "source": [
        "### 5. In all the High tier, which Division saw a decline in number of units sold in 2016 compared to 2015?"
      ]
    },
    {
      "cell_type": "code",
      "execution_count": null,
      "id": "113f431e",
      "metadata": {
        "execution": {
          "iopub.execute_input": "2022-03-13T16:20:47.942898Z",
          "iopub.status.busy": "2022-03-13T16:20:47.942188Z",
          "iopub.status.idle": "2022-03-13T16:20:47.951933Z",
          "shell.execute_reply": "2022-03-13T16:20:47.952396Z",
          "shell.execute_reply.started": "2022-03-13T16:15:56.152033Z"
        },
        "papermill": {
          "duration": 0.04565,
          "end_time": "2022-03-13T16:20:47.952611",
          "exception": false,
          "start_time": "2022-03-13T16:20:47.906961",
          "status": "completed"
        },
        "tags": [],
        "id": "113f431e"
      },
      "outputs": [],
      "source": [
        "SalesData5 = SalesData.groupby([\"Division\",\"Tier\"])[[\"Sales2015\",\"Sales2016\"]].sum().reset_index()"
      ]
    },
    {
      "cell_type": "code",
      "execution_count": null,
      "id": "04d3721e",
      "metadata": {
        "execution": {
          "iopub.execute_input": "2022-03-13T16:20:48.020381Z",
          "iopub.status.busy": "2022-03-13T16:20:48.019789Z",
          "iopub.status.idle": "2022-03-13T16:20:48.030296Z",
          "shell.execute_reply": "2022-03-13T16:20:48.030852Z",
          "shell.execute_reply.started": "2022-03-13T16:15:56.168438Z"
        },
        "papermill": {
          "duration": 0.046817,
          "end_time": "2022-03-13T16:20:48.031052",
          "exception": false,
          "start_time": "2022-03-13T16:20:47.984235",
          "status": "completed"
        },
        "tags": [],
        "id": "04d3721e",
        "outputId": "d17d001f-c266-4096-be25-62ccccbae6cf"
      },
      "outputs": [
        {
          "data": {
            "text/html": [
              "<div>\n",
              "<style scoped>\n",
              "    .dataframe tbody tr th:only-of-type {\n",
              "        vertical-align: middle;\n",
              "    }\n",
              "\n",
              "    .dataframe tbody tr th {\n",
              "        vertical-align: top;\n",
              "    }\n",
              "\n",
              "    .dataframe thead th {\n",
              "        text-align: right;\n",
              "    }\n",
              "</style>\n",
              "<table border=\"1\" class=\"dataframe\">\n",
              "  <thead>\n",
              "    <tr style=\"text-align: right;\">\n",
              "      <th></th>\n",
              "      <th>Division</th>\n",
              "      <th>Tier</th>\n",
              "      <th>Sales2015</th>\n",
              "      <th>Sales2016</th>\n",
              "    </tr>\n",
              "  </thead>\n",
              "  <tbody>\n",
              "    <tr>\n",
              "      <th>0</th>\n",
              "      <td>BIG APPLE</td>\n",
              "      <td>High</td>\n",
              "      <td>563638.61</td>\n",
              "      <td>669485.03</td>\n",
              "    </tr>\n",
              "    <tr>\n",
              "      <th>1</th>\n",
              "      <td>BIG APPLE</td>\n",
              "      <td>Low</td>\n",
              "      <td>69462.02</td>\n",
              "      <td>79538.27</td>\n",
              "    </tr>\n",
              "    <tr>\n",
              "      <th>2</th>\n",
              "      <td>BIG APPLE</td>\n",
              "      <td>Med</td>\n",
              "      <td>272834.08</td>\n",
              "      <td>277194.52</td>\n",
              "    </tr>\n",
              "    <tr>\n",
              "      <th>3</th>\n",
              "      <td>BIG APPLE</td>\n",
              "      <td>Out</td>\n",
              "      <td>7368.96</td>\n",
              "      <td>0.00</td>\n",
              "    </tr>\n",
              "    <tr>\n",
              "      <th>4</th>\n",
              "      <td>CHARGERS</td>\n",
              "      <td>High</td>\n",
              "      <td>357746.20</td>\n",
              "      <td>485728.16</td>\n",
              "    </tr>\n",
              "  </tbody>\n",
              "</table>\n",
              "</div>"
            ],
            "text/plain": [
              "    Division  Tier  Sales2015  Sales2016\n",
              "0  BIG APPLE  High  563638.61  669485.03\n",
              "1  BIG APPLE   Low   69462.02   79538.27\n",
              "2  BIG APPLE   Med  272834.08  277194.52\n",
              "3  BIG APPLE   Out    7368.96       0.00\n",
              "4   CHARGERS  High  357746.20  485728.16"
            ]
          },
          "execution_count": 17,
          "metadata": {},
          "output_type": "execute_result"
        }
      ],
      "source": [
        "SalesData5.head()"
      ]
    },
    {
      "cell_type": "code",
      "execution_count": null,
      "id": "2666938e",
      "metadata": {
        "execution": {
          "iopub.execute_input": "2022-03-13T16:20:48.106894Z",
          "iopub.status.busy": "2022-03-13T16:20:48.106210Z",
          "iopub.status.idle": "2022-03-13T16:20:48.109013Z",
          "shell.execute_reply": "2022-03-13T16:20:48.108425Z",
          "shell.execute_reply.started": "2022-03-13T16:15:56.186164Z"
        },
        "papermill": {
          "duration": 0.045964,
          "end_time": "2022-03-13T16:20:48.109154",
          "exception": false,
          "start_time": "2022-03-13T16:20:48.063190",
          "status": "completed"
        },
        "tags": [],
        "id": "2666938e"
      },
      "outputs": [],
      "source": [
        "SalesData5_High = SalesData5.loc[SalesData5.Tier == 'High', ['Sales2015','Sales2016','Division']]"
      ]
    },
    {
      "cell_type": "code",
      "execution_count": null,
      "id": "f0683bf9",
      "metadata": {
        "execution": {
          "iopub.execute_input": "2022-03-13T16:20:48.176858Z",
          "iopub.status.busy": "2022-03-13T16:20:48.176178Z",
          "iopub.status.idle": "2022-03-13T16:20:48.181226Z",
          "shell.execute_reply": "2022-03-13T16:20:48.181675Z",
          "shell.execute_reply.started": "2022-03-13T16:15:56.196524Z"
        },
        "papermill": {
          "duration": 0.040848,
          "end_time": "2022-03-13T16:20:48.181874",
          "exception": false,
          "start_time": "2022-03-13T16:20:48.141026",
          "status": "completed"
        },
        "tags": [],
        "id": "f0683bf9"
      },
      "outputs": [],
      "source": [
        "SalesData5_High = SalesData5_High.set_index('Division')"
      ]
    },
    {
      "cell_type": "code",
      "execution_count": null,
      "id": "a0936715",
      "metadata": {
        "execution": {
          "iopub.execute_input": "2022-03-13T16:20:48.259123Z",
          "iopub.status.busy": "2022-03-13T16:20:48.258440Z",
          "iopub.status.idle": "2022-03-13T16:20:48.261012Z",
          "shell.execute_reply": "2022-03-13T16:20:48.261544Z",
          "shell.execute_reply.started": "2022-03-13T16:15:56.208236Z"
        },
        "papermill": {
          "duration": 0.047996,
          "end_time": "2022-03-13T16:20:48.261729",
          "exception": false,
          "start_time": "2022-03-13T16:20:48.213733",
          "status": "completed"
        },
        "tags": [],
        "id": "a0936715",
        "outputId": "44655154-8afe-4117-8783-48295854f5e1"
      },
      "outputs": [
        {
          "data": {
            "text/html": [
              "<div>\n",
              "<style scoped>\n",
              "    .dataframe tbody tr th:only-of-type {\n",
              "        vertical-align: middle;\n",
              "    }\n",
              "\n",
              "    .dataframe tbody tr th {\n",
              "        vertical-align: top;\n",
              "    }\n",
              "\n",
              "    .dataframe thead th {\n",
              "        text-align: right;\n",
              "    }\n",
              "</style>\n",
              "<table border=\"1\" class=\"dataframe\">\n",
              "  <thead>\n",
              "    <tr style=\"text-align: right;\">\n",
              "      <th></th>\n",
              "      <th>Sales2015</th>\n",
              "      <th>Sales2016</th>\n",
              "    </tr>\n",
              "    <tr>\n",
              "      <th>Division</th>\n",
              "      <th></th>\n",
              "      <th></th>\n",
              "    </tr>\n",
              "  </thead>\n",
              "  <tbody>\n",
              "    <tr>\n",
              "      <th>BIG APPLE</th>\n",
              "      <td>563638.61</td>\n",
              "      <td>669485.03</td>\n",
              "    </tr>\n",
              "    <tr>\n",
              "      <th>CHARGERS</th>\n",
              "      <td>357746.20</td>\n",
              "      <td>485728.16</td>\n",
              "    </tr>\n",
              "    <tr>\n",
              "      <th>CONGRESSIONAL</th>\n",
              "      <td>481600.89</td>\n",
              "      <td>591768.57</td>\n",
              "    </tr>\n",
              "    <tr>\n",
              "      <th>DIAMONDBACK</th>\n",
              "      <td>422571.32</td>\n",
              "      <td>487963.45</td>\n",
              "    </tr>\n",
              "    <tr>\n",
              "      <th>EMPIRE</th>\n",
              "      <td>908479.99</td>\n",
              "      <td>1027031.07</td>\n",
              "    </tr>\n",
              "    <tr>\n",
              "      <th>GRIDIRON</th>\n",
              "      <td>499841.12</td>\n",
              "      <td>623601.66</td>\n",
              "    </tr>\n",
              "    <tr>\n",
              "      <th>GULF STREAM</th>\n",
              "      <td>507790.52</td>\n",
              "      <td>807835.66</td>\n",
              "    </tr>\n",
              "    <tr>\n",
              "      <th>HAILSTORM</th>\n",
              "      <td>515226.63</td>\n",
              "      <td>691777.98</td>\n",
              "    </tr>\n",
              "    <tr>\n",
              "      <th>KINETIC</th>\n",
              "      <td>614482.72</td>\n",
              "      <td>667336.37</td>\n",
              "    </tr>\n",
              "    <tr>\n",
              "      <th>MINUTEMEN</th>\n",
              "      <td>618158.37</td>\n",
              "      <td>747001.51</td>\n",
              "    </tr>\n",
              "    <tr>\n",
              "      <th>MUDDY WATERS</th>\n",
              "      <td>444958.31</td>\n",
              "      <td>610003.75</td>\n",
              "    </tr>\n",
              "    <tr>\n",
              "      <th>NORDIC</th>\n",
              "      <td>565723.38</td>\n",
              "      <td>636846.01</td>\n",
              "    </tr>\n",
              "    <tr>\n",
              "      <th>NORTHWEST</th>\n",
              "      <td>373592.80</td>\n",
              "      <td>439370.91</td>\n",
              "    </tr>\n",
              "    <tr>\n",
              "      <th>ORION</th>\n",
              "      <td>481504.53</td>\n",
              "      <td>750046.34</td>\n",
              "    </tr>\n",
              "    <tr>\n",
              "      <th>RACEWAY</th>\n",
              "      <td>524352.97</td>\n",
              "      <td>873553.37</td>\n",
              "    </tr>\n",
              "    <tr>\n",
              "      <th>REVOLUTION</th>\n",
              "      <td>491242.22</td>\n",
              "      <td>539168.62</td>\n",
              "    </tr>\n",
              "    <tr>\n",
              "      <th>RIPTIDE</th>\n",
              "      <td>424525.10</td>\n",
              "      <td>525107.32</td>\n",
              "    </tr>\n",
              "    <tr>\n",
              "      <th>SOUTHERN STAR</th>\n",
              "      <td>659347.78</td>\n",
              "      <td>777971.13</td>\n",
              "    </tr>\n",
              "    <tr>\n",
              "      <th>STAMPEDE</th>\n",
              "      <td>542975.11</td>\n",
              "      <td>675598.18</td>\n",
              "    </tr>\n",
              "    <tr>\n",
              "      <th>SYNERGY</th>\n",
              "      <td>835654.07</td>\n",
              "      <td>1076243.00</td>\n",
              "    </tr>\n",
              "    <tr>\n",
              "      <th>THE CAROLINAS</th>\n",
              "      <td>738403.51</td>\n",
              "      <td>979102.01</td>\n",
              "    </tr>\n",
              "    <tr>\n",
              "      <th>TORNADO VALLEY</th>\n",
              "      <td>365398.45</td>\n",
              "      <td>529822.29</td>\n",
              "    </tr>\n",
              "    <tr>\n",
              "      <th>VICTORY</th>\n",
              "      <td>476473.41</td>\n",
              "      <td>629469.29</td>\n",
              "    </tr>\n",
              "    <tr>\n",
              "      <th>WAVE RIDER</th>\n",
              "      <td>485728.76</td>\n",
              "      <td>608268.24</td>\n",
              "    </tr>\n",
              "    <tr>\n",
              "      <th>WOLVERINE</th>\n",
              "      <td>368656.35</td>\n",
              "      <td>436857.32</td>\n",
              "    </tr>\n",
              "    <tr>\n",
              "      <th>WRANGLER</th>\n",
              "      <td>578360.69</td>\n",
              "      <td>724275.15</td>\n",
              "    </tr>\n",
              "  </tbody>\n",
              "</table>\n",
              "</div>"
            ],
            "text/plain": [
              "                Sales2015   Sales2016\n",
              "Division                             \n",
              "BIG APPLE       563638.61   669485.03\n",
              "CHARGERS        357746.20   485728.16\n",
              "CONGRESSIONAL   481600.89   591768.57\n",
              "DIAMONDBACK     422571.32   487963.45\n",
              "EMPIRE          908479.99  1027031.07\n",
              "GRIDIRON        499841.12   623601.66\n",
              "GULF STREAM     507790.52   807835.66\n",
              "HAILSTORM       515226.63   691777.98\n",
              "KINETIC         614482.72   667336.37\n",
              "MINUTEMEN       618158.37   747001.51\n",
              "MUDDY WATERS    444958.31   610003.75\n",
              "NORDIC          565723.38   636846.01\n",
              "NORTHWEST       373592.80   439370.91\n",
              "ORION           481504.53   750046.34\n",
              "RACEWAY         524352.97   873553.37\n",
              "REVOLUTION      491242.22   539168.62\n",
              "RIPTIDE         424525.10   525107.32\n",
              "SOUTHERN STAR   659347.78   777971.13\n",
              "STAMPEDE        542975.11   675598.18\n",
              "SYNERGY         835654.07  1076243.00\n",
              "THE CAROLINAS   738403.51   979102.01\n",
              "TORNADO VALLEY  365398.45   529822.29\n",
              "VICTORY         476473.41   629469.29\n",
              "WAVE RIDER      485728.76   608268.24\n",
              "WOLVERINE       368656.35   436857.32\n",
              "WRANGLER        578360.69   724275.15"
            ]
          },
          "execution_count": 20,
          "metadata": {},
          "output_type": "execute_result"
        }
      ],
      "source": [
        "SalesData5_High"
      ]
    },
    {
      "cell_type": "code",
      "execution_count": null,
      "id": "1bcf4117",
      "metadata": {
        "execution": {
          "iopub.execute_input": "2022-03-13T16:20:48.331798Z",
          "iopub.status.busy": "2022-03-13T16:20:48.330886Z",
          "iopub.status.idle": "2022-03-13T16:20:48.756931Z",
          "shell.execute_reply": "2022-03-13T16:20:48.757603Z",
          "shell.execute_reply.started": "2022-03-13T16:15:56.235623Z"
        },
        "papermill": {
          "duration": 0.462433,
          "end_time": "2022-03-13T16:20:48.757798",
          "exception": false,
          "start_time": "2022-03-13T16:20:48.295365",
          "status": "completed"
        },
        "tags": [],
        "id": "1bcf4117",
        "outputId": "3d164165-6529-45f6-c850-7ed9c61f7abd"
      },
      "outputs": [
        {
          "data": {
            "image/png": "[encoded data removed]",
            "text/plain": [
              "<Figure size 1080x432 with 1 Axes>"
            ]
          },
          "metadata": {
            "needs_background": "light"
          },
          "output_type": "display_data"
        }
      ],
      "source": [
        "SalesData5graph = SalesData5_High.plot.bar(figsize=(15,6),rot=-60)"
      ]
    },
    {
      "cell_type": "markdown",
      "id": "38967689",
      "metadata": {
        "papermill": {
          "duration": 0.036034,
          "end_time": "2022-03-13T16:20:48.830524",
          "exception": false,
          "start_time": "2022-03-13T16:20:48.794490",
          "status": "completed"
        },
        "tags": [],
        "id": "38967689"
      },
      "source": [
        "### 6. Create a new column Qtr using numpy.where() or any suitable utility in the imported dataset. The Quarters are based on months and defined as -\n",
        "### • Jan - Mar : Q1\n",
        "### • Apr - Jun : Q2\n",
        "### • Jul - Sep : Q3\n",
        "### • Oct - Dec : Q4"
      ]
    },
    {
      "cell_type": "code",
      "execution_count": null,
      "id": "dbbd37f2",
      "metadata": {
        "execution": {
          "iopub.execute_input": "2022-03-13T16:20:48.903536Z",
          "iopub.status.busy": "2022-03-13T16:20:48.902497Z",
          "iopub.status.idle": "2022-03-13T16:20:48.920744Z",
          "shell.execute_reply": "2022-03-13T16:20:48.920048Z",
          "shell.execute_reply.started": "2022-03-13T16:15:56.787162Z"
        },
        "papermill": {
          "duration": 0.056198,
          "end_time": "2022-03-13T16:20:48.920915",
          "exception": false,
          "start_time": "2022-03-13T16:20:48.864717",
          "status": "completed"
        },
        "tags": [],
        "id": "dbbd37f2"
      },
      "outputs": [],
      "source": [
        "SalesData['Qtr'] = 'Q' + pd.to_datetime(SalesData['Month'], format='%b').dt.quarter.astype(str)"
      ]
    },
    {
      "cell_type": "code",
      "execution_count": null,
      "id": "ad96ca5c",
      "metadata": {
        "execution": {
          "iopub.execute_input": "2022-03-13T16:20:48.995125Z",
          "iopub.status.busy": "2022-03-13T16:20:48.994381Z",
          "iopub.status.idle": "2022-03-13T16:20:49.013344Z",
          "shell.execute_reply": "2022-03-13T16:20:49.013877Z",
          "shell.execute_reply.started": "2022-03-13T16:15:56.80719Z"
        },
        "papermill": {
          "duration": 0.056743,
          "end_time": "2022-03-13T16:20:49.014057",
          "exception": false,
          "start_time": "2022-03-13T16:20:48.957314",
          "status": "completed"
        },
        "tags": [],
        "id": "ad96ca5c",
        "outputId": "3d97f479-3107-4d82-bb29-a5390a580edd"
      },
      "outputs": [
        {
          "data": {
            "text/html": [
              "<div>\n",
              "<style scoped>\n",
              "    .dataframe tbody tr th:only-of-type {\n",
              "        vertical-align: middle;\n",
              "    }\n",
              "\n",
              "    .dataframe tbody tr th {\n",
              "        vertical-align: top;\n",
              "    }\n",
              "\n",
              "    .dataframe thead th {\n",
              "        text-align: right;\n",
              "    }\n",
              "</style>\n",
              "<table border=\"1\" class=\"dataframe\">\n",
              "  <thead>\n",
              "    <tr style=\"text-align: right;\">\n",
              "      <th></th>\n",
              "      <th>AccountId</th>\n",
              "      <th>AccountName</th>\n",
              "      <th>Region</th>\n",
              "      <th>Division</th>\n",
              "      <th>City</th>\n",
              "      <th>State</th>\n",
              "      <th>Tier</th>\n",
              "      <th>Month</th>\n",
              "      <th>Sales2015</th>\n",
              "      <th>Sales2016</th>\n",
              "      <th>Units2015</th>\n",
              "      <th>Units2016</th>\n",
              "      <th>TargetAchevied2015</th>\n",
              "      <th>TargetAchevied2016</th>\n",
              "      <th>Qtr</th>\n",
              "    </tr>\n",
              "  </thead>\n",
              "  <tbody>\n",
              "    <tr>\n",
              "      <th>0</th>\n",
              "      <td>1116</td>\n",
              "      <td>Account1</td>\n",
              "      <td>West</td>\n",
              "      <td>DIAMONDBACK</td>\n",
              "      <td>PHOENIX W</td>\n",
              "      <td>AZ</td>\n",
              "      <td>Low</td>\n",
              "      <td>Aug</td>\n",
              "      <td>0.00</td>\n",
              "      <td>13208.52</td>\n",
              "      <td>0.0</td>\n",
              "      <td>4.0</td>\n",
              "      <td>0.70</td>\n",
              "      <td>1.53</td>\n",
              "      <td>Q3</td>\n",
              "    </tr>\n",
              "    <tr>\n",
              "      <th>1</th>\n",
              "      <td>1116</td>\n",
              "      <td>Account1</td>\n",
              "      <td>West</td>\n",
              "      <td>DIAMONDBACK</td>\n",
              "      <td>PHOENIX W</td>\n",
              "      <td>AZ</td>\n",
              "      <td>Low</td>\n",
              "      <td>Oct</td>\n",
              "      <td>10500.78</td>\n",
              "      <td>23114.91</td>\n",
              "      <td>3.0</td>\n",
              "      <td>7.0</td>\n",
              "      <td>0.84</td>\n",
              "      <td>1.31</td>\n",
              "      <td>Q4</td>\n",
              "    </tr>\n",
              "    <tr>\n",
              "      <th>2</th>\n",
              "      <td>2391</td>\n",
              "      <td>Account2</td>\n",
              "      <td>East</td>\n",
              "      <td>MINUTEMEN</td>\n",
              "      <td>HARTFORD</td>\n",
              "      <td>CT</td>\n",
              "      <td>Med</td>\n",
              "      <td>Jun</td>\n",
              "      <td>0.00</td>\n",
              "      <td>6627.00</td>\n",
              "      <td>0.0</td>\n",
              "      <td>3.0</td>\n",
              "      <td>1.15</td>\n",
              "      <td>1.29</td>\n",
              "      <td>Q2</td>\n",
              "    </tr>\n",
              "    <tr>\n",
              "      <th>3</th>\n",
              "      <td>2391</td>\n",
              "      <td>Account2</td>\n",
              "      <td>East</td>\n",
              "      <td>MINUTEMEN</td>\n",
              "      <td>HARTFORD</td>\n",
              "      <td>CT</td>\n",
              "      <td>Med</td>\n",
              "      <td>Mar</td>\n",
              "      <td>19881.00</td>\n",
              "      <td>13254.00</td>\n",
              "      <td>9.0</td>\n",
              "      <td>6.0</td>\n",
              "      <td>1.33</td>\n",
              "      <td>1.17</td>\n",
              "      <td>Q1</td>\n",
              "    </tr>\n",
              "    <tr>\n",
              "      <th>4</th>\n",
              "      <td>2397</td>\n",
              "      <td>Account3</td>\n",
              "      <td>East</td>\n",
              "      <td>MINUTEMEN</td>\n",
              "      <td>WORCESTER</td>\n",
              "      <td>MA</td>\n",
              "      <td>Med</td>\n",
              "      <td>Sep</td>\n",
              "      <td>3684.48</td>\n",
              "      <td>0.00</td>\n",
              "      <td>1.0</td>\n",
              "      <td>0.0</td>\n",
              "      <td>1.02</td>\n",
              "      <td>1.53</td>\n",
              "      <td>Q3</td>\n",
              "    </tr>\n",
              "  </tbody>\n",
              "</table>\n",
              "</div>"
            ],
            "text/plain": [
              "   AccountId AccountName Region     Division       City State Tier Month  \\\n",
              "0       1116    Account1   West  DIAMONDBACK  PHOENIX W    AZ  Low   Aug   \n",
              "1       1116    Account1   West  DIAMONDBACK  PHOENIX W    AZ  Low   Oct   \n",
              "2       2391    Account2   East    MINUTEMEN   HARTFORD    CT  Med   Jun   \n",
              "3       2391    Account2   East    MINUTEMEN   HARTFORD    CT  Med   Mar   \n",
              "4       2397    Account3   East    MINUTEMEN  WORCESTER    MA  Med   Sep   \n",
              "\n",
              "   Sales2015  Sales2016  Units2015  Units2016  TargetAchevied2015  \\\n",
              "0       0.00   13208.52        0.0        4.0                0.70   \n",
              "1   10500.78   23114.91        3.0        7.0                0.84   \n",
              "2       0.00    6627.00        0.0        3.0                1.15   \n",
              "3   19881.00   13254.00        9.0        6.0                1.33   \n",
              "4    3684.48       0.00        1.0        0.0                1.02   \n",
              "\n",
              "   TargetAchevied2016 Qtr  \n",
              "0                1.53  Q3  \n",
              "1                1.31  Q4  \n",
              "2                1.29  Q2  \n",
              "3                1.17  Q1  \n",
              "4                1.53  Q3  "
            ]
          },
          "execution_count": 23,
          "metadata": {},
          "output_type": "execute_result"
        }
      ],
      "source": [
        "SalesData.head()"
      ]
    },
    {
      "cell_type": "markdown",
      "id": "6bcd6f5d",
      "metadata": {
        "papermill": {
          "duration": 0.034729,
          "end_time": "2022-03-13T16:20:49.085163",
          "exception": false,
          "start_time": "2022-03-13T16:20:49.050434",
          "status": "completed"
        },
        "tags": [],
        "id": "6bcd6f5d"
      },
      "source": [
        "### 7. Compare Qtr wise sales in 2015 and 2016 in a bar plot"
      ]
    },
    {
      "cell_type": "code",
      "execution_count": null,
      "id": "61d65cb3",
      "metadata": {
        "execution": {
          "iopub.execute_input": "2022-03-13T16:20:49.160864Z",
          "iopub.status.busy": "2022-03-13T16:20:49.160070Z",
          "iopub.status.idle": "2022-03-13T16:20:49.168604Z",
          "shell.execute_reply": "2022-03-13T16:20:49.169161Z",
          "shell.execute_reply.started": "2022-03-13T16:15:56.839682Z"
        },
        "papermill": {
          "duration": 0.04812,
          "end_time": "2022-03-13T16:20:49.169348",
          "exception": false,
          "start_time": "2022-03-13T16:20:49.121228",
          "status": "completed"
        },
        "tags": [],
        "id": "61d65cb3"
      },
      "outputs": [],
      "source": [
        "SalesData7 = SalesData.groupby([\"Qtr\"])[[\"Sales2015\",\"Sales2016\"]].sum()"
      ]
    },
    {
      "cell_type": "code",
      "execution_count": null,
      "id": "5d0b8c51",
      "metadata": {
        "execution": {
          "iopub.execute_input": "2022-03-13T16:20:49.245197Z",
          "iopub.status.busy": "2022-03-13T16:20:49.244318Z",
          "iopub.status.idle": "2022-03-13T16:20:49.253984Z",
          "shell.execute_reply": "2022-03-13T16:20:49.254524Z",
          "shell.execute_reply.started": "2022-03-13T16:15:56.857807Z"
        },
        "papermill": {
          "duration": 0.050435,
          "end_time": "2022-03-13T16:20:49.254717",
          "exception": false,
          "start_time": "2022-03-13T16:20:49.204282",
          "status": "completed"
        },
        "tags": [],
        "id": "5d0b8c51",
        "outputId": "79d76c51-328a-4a5b-a395-adad02437384"
      },
      "outputs": [
        {
          "data": {
            "text/html": [
              "<div>\n",
              "<style scoped>\n",
              "    .dataframe tbody tr th:only-of-type {\n",
              "        vertical-align: middle;\n",
              "    }\n",
              "\n",
              "    .dataframe tbody tr th {\n",
              "        vertical-align: top;\n",
              "    }\n",
              "\n",
              "    .dataframe thead th {\n",
              "        text-align: right;\n",
              "    }\n",
              "</style>\n",
              "<table border=\"1\" class=\"dataframe\">\n",
              "  <thead>\n",
              "    <tr style=\"text-align: right;\">\n",
              "      <th></th>\n",
              "      <th>Sales2015</th>\n",
              "      <th>Sales2016</th>\n",
              "    </tr>\n",
              "    <tr>\n",
              "      <th>Qtr</th>\n",
              "      <th></th>\n",
              "      <th></th>\n",
              "    </tr>\n",
              "  </thead>\n",
              "  <tbody>\n",
              "    <tr>\n",
              "      <th>Q1</th>\n",
              "      <td>5.485800e+06</td>\n",
              "      <td>6.997953e+06</td>\n",
              "    </tr>\n",
              "    <tr>\n",
              "      <th>Q2</th>\n",
              "      <td>5.390862e+06</td>\n",
              "      <td>7.237361e+06</td>\n",
              "    </tr>\n",
              "    <tr>\n",
              "      <th>Q3</th>\n",
              "      <td>6.164094e+06</td>\n",
              "      <td>7.861546e+06</td>\n",
              "    </tr>\n",
              "    <tr>\n",
              "      <th>Q4</th>\n",
              "      <td>5.713634e+06</td>\n",
              "      <td>7.567868e+06</td>\n",
              "    </tr>\n",
              "  </tbody>\n",
              "</table>\n",
              "</div>"
            ],
            "text/plain": [
              "        Sales2015     Sales2016\n",
              "Qtr                            \n",
              "Q1   5.485800e+06  6.997953e+06\n",
              "Q2   5.390862e+06  7.237361e+06\n",
              "Q3   6.164094e+06  7.861546e+06\n",
              "Q4   5.713634e+06  7.567868e+06"
            ]
          },
          "execution_count": 25,
          "metadata": {},
          "output_type": "execute_result"
        }
      ],
      "source": [
        "SalesData7"
      ]
    },
    {
      "cell_type": "code",
      "execution_count": null,
      "id": "f3a3ec66",
      "metadata": {
        "execution": {
          "iopub.execute_input": "2022-03-13T16:20:49.333674Z",
          "iopub.status.busy": "2022-03-13T16:20:49.332921Z",
          "iopub.status.idle": "2022-03-13T16:20:49.527179Z",
          "shell.execute_reply": "2022-03-13T16:20:49.527690Z",
          "shell.execute_reply.started": "2022-03-13T16:15:56.873079Z"
        },
        "papermill": {
          "duration": 0.237688,
          "end_time": "2022-03-13T16:20:49.527889",
          "exception": false,
          "start_time": "2022-03-13T16:20:49.290201",
          "status": "completed"
        },
        "tags": [],
        "id": "f3a3ec66",
        "outputId": "341f9fee-0863-470b-b0c3-3277af587a68"
      },
      "outputs": [
        {
          "data": {
            "image/png": "[encoded data removed]",
            "text/plain": [
              "<Figure size 1080x432 with 1 Axes>"
            ]
          },
          "metadata": {
            "needs_background": "light"
          },
          "output_type": "display_data"
        }
      ],
      "source": [
        "SalesData7graph = SalesData7.plot.bar(figsize=(15,6),rot=0)"
      ]
    },
    {
      "cell_type": "markdown",
      "id": "3acfe309",
      "metadata": {
        "papermill": {
          "duration": 0.037809,
          "end_time": "2022-03-13T16:20:49.602054",
          "exception": false,
          "start_time": "2022-03-13T16:20:49.564245",
          "status": "completed"
        },
        "tags": [],
        "id": "3acfe309"
      },
      "source": [
        "### 8. Determine the composition of Qtr wise sales in and 2016 with regards to all the Tiers in a pie chart."
      ]
    },
    {
      "cell_type": "code",
      "execution_count": null,
      "id": "9ba84b2f",
      "metadata": {
        "execution": {
          "iopub.execute_input": "2022-03-13T16:20:49.683383Z",
          "iopub.status.busy": "2022-03-13T16:20:49.682672Z",
          "iopub.status.idle": "2022-03-13T16:20:49.705100Z",
          "shell.execute_reply": "2022-03-13T16:20:49.705639Z",
          "shell.execute_reply.started": "2022-03-13T16:15:57.155231Z"
        },
        "papermill": {
          "duration": 0.066472,
          "end_time": "2022-03-13T16:20:49.705847",
          "exception": false,
          "start_time": "2022-03-13T16:20:49.639375",
          "status": "completed"
        },
        "tags": [],
        "id": "9ba84b2f",
        "outputId": "f4e06f8d-1217-48d2-8dfc-51300b72c8b2"
      },
      "outputs": [
        {
          "data": {
            "text/html": [
              "<div>\n",
              "<style scoped>\n",
              "    .dataframe tbody tr th:only-of-type {\n",
              "        vertical-align: middle;\n",
              "    }\n",
              "\n",
              "    .dataframe tbody tr th {\n",
              "        vertical-align: top;\n",
              "    }\n",
              "\n",
              "    .dataframe thead tr th {\n",
              "        text-align: left;\n",
              "    }\n",
              "\n",
              "    .dataframe thead tr:last-of-type th {\n",
              "        text-align: right;\n",
              "    }\n",
              "</style>\n",
              "<table border=\"1\" class=\"dataframe\">\n",
              "  <thead>\n",
              "    <tr>\n",
              "      <th>Qtr</th>\n",
              "      <th>Q1</th>\n",
              "      <th>Q2</th>\n",
              "      <th>Q3</th>\n",
              "      <th>Q4</th>\n",
              "    </tr>\n",
              "    <tr>\n",
              "      <th></th>\n",
              "      <th>Sales2016</th>\n",
              "      <th>Sales2016</th>\n",
              "      <th>Sales2016</th>\n",
              "      <th>Sales2016</th>\n",
              "    </tr>\n",
              "    <tr>\n",
              "      <th>Tier</th>\n",
              "      <th></th>\n",
              "      <th></th>\n",
              "      <th></th>\n",
              "      <th></th>\n",
              "    </tr>\n",
              "  </thead>\n",
              "  <tbody>\n",
              "    <tr>\n",
              "      <th>High</th>\n",
              "      <td>3867719.0</td>\n",
              "      <td>4130953.0</td>\n",
              "      <td>4872559.0</td>\n",
              "      <td>4740002.0</td>\n",
              "    </tr>\n",
              "    <tr>\n",
              "      <th>Low</th>\n",
              "      <td>948833.0</td>\n",
              "      <td>890595.0</td>\n",
              "      <td>795178.0</td>\n",
              "      <td>742659.0</td>\n",
              "    </tr>\n",
              "    <tr>\n",
              "      <th>Med</th>\n",
              "      <td>2181402.0</td>\n",
              "      <td>2215814.0</td>\n",
              "      <td>2197058.0</td>\n",
              "      <td>2085207.0</td>\n",
              "    </tr>\n",
              "  </tbody>\n",
              "</table>\n",
              "</div>"
            ],
            "text/plain": [
              "Qtr          Q1         Q2         Q3         Q4\n",
              "      Sales2016  Sales2016  Sales2016  Sales2016\n",
              "Tier                                            \n",
              "High  3867719.0  4130953.0  4872559.0  4740002.0\n",
              "Low    948833.0   890595.0   795178.0   742659.0\n",
              "Med   2181402.0  2215814.0  2197058.0  2085207.0"
            ]
          },
          "execution_count": 27,
          "metadata": {},
          "output_type": "execute_result"
        }
      ],
      "source": [
        "#8. Determine the composition of Qtr wise sales in and 2016 with regards to all the Tiers in a pie chart.\n",
        "SalesData8 = SalesData[SalesData['Tier']!='Out']\n",
        "SalesData8 = SalesData8.groupby([\"Tier\",\"Qtr\"])[[\"Sales2016\"]].sum()\n",
        "SalesData8 = SalesData8.round(decimals=0)\n",
        "SalesData8 = SalesData8.stack() # long to wide data\n",
        "SalesData8 = SalesData8.unstack(level=0)\n",
        "SalesData8 = SalesData8.T\n",
        "SalesData8"
      ]
    },
    {
      "cell_type": "code",
      "execution_count": null,
      "id": "040a43f1",
      "metadata": {
        "execution": {
          "iopub.execute_input": "2022-03-13T16:20:49.784092Z",
          "iopub.status.busy": "2022-03-13T16:20:49.783378Z",
          "iopub.status.idle": "2022-03-13T16:20:50.638853Z",
          "shell.execute_reply": "2022-03-13T16:20:50.638313Z",
          "shell.execute_reply.started": "2022-03-13T16:15:57.190236Z"
        },
        "papermill": {
          "duration": 0.894762,
          "end_time": "2022-03-13T16:20:50.639013",
          "exception": false,
          "start_time": "2022-03-13T16:20:49.744251",
          "status": "completed"
        },
        "tags": [],
        "id": "040a43f1",
        "outputId": "87e87928-a693-400e-8b73-210b9dc1bd36"
      },
      "outputs": [
        {
          "data": {
            "image/png": "[encoded data removed]",
            "text/plain": [
              "<Figure size 720x720 with 4 Axes>"
            ]
          },
          "metadata": {},
          "output_type": "display_data"
        }
      ],
      "source": [
        "pielabels = ['High', 'Low', 'Medium','High']\n",
        "SalesData8.plot(kind='pie',\n",
        "            labels=pielabels,\n",
        "            colors=['deepskyblue', 'darkorange', 'darkgreen'],\n",
        "            autopct='%1.0f%%',\n",
        "            fontsize=10,\n",
        "            subplots='true',\n",
        "            layout=(2,2), #to get a grid\n",
        "            figsize=(10,10))\n",
        "plt.show()"
      ]
    },
    {
      "cell_type": "code",
      "execution_count": null,
      "id": "170dfce3",
      "metadata": {
        "papermill": {
          "duration": 0.03776,
          "end_time": "2022-03-13T16:20:50.715482",
          "exception": false,
          "start_time": "2022-03-13T16:20:50.677722",
          "status": "completed"
        },
        "tags": [],
        "id": "170dfce3"
      },
      "outputs": [],
      "source": []
    },
    {
      "cell_type": "code",
      "execution_count": null,
      "id": "e889b1a8",
      "metadata": {
        "papermill": {
          "duration": 0.038262,
          "end_time": "2022-03-13T16:20:50.791557",
          "exception": false,
          "start_time": "2022-03-13T16:20:50.753295",
          "status": "completed"
        },
        "tags": [],
        "id": "e889b1a8"
      },
      "outputs": [],
      "source": []
    }
  ],
  "metadata": {
    "kernelspec": {
      "display_name": "Python 3",
      "language": "python",
      "name": "python3"
    },
    "language_info": {
      "codemirror_mode": {
        "name": "ipython",
        "version": 3
      },
      "file_extension": ".py",
      "mimetype": "text/x-python",
      "name": "python",
      "nbconvert_exporter": "python",
      "pygments_lexer": "ipython3",
      "version": "3.7.12"
    },
    "papermill": {
      "default_parameters": {},
      "duration": 17.230245,
      "end_time": "2022-03-13T16:20:51.843888",
      "environment_variables": {},
      "exception": null,
      "input_path": "__notebook__.ipynb",
      "output_path": "__notebook__.ipynb",
      "parameters": {},
      "start_time": "2022-03-13T16:20:34.613643",
      "version": "2.3.3"
    },
    "colab": {
      "provenance": [],
      "include_colab_link": true
    }
  },
  "nbformat": 4,
  "nbformat_minor": 5
}