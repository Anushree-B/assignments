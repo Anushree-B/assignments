{
  "cells": [
    {
      "cell_type": "markdown",
      "metadata": {
        "id": "view-in-github",
        "colab_type": "text"
      },
      "source": [
        "<a href=\"https://colab.research.google.com/github/Anushree-B/assignments/blob/main/assignment_1.ipynb\" target=\"_parent\"><img src=\"https://colab.research.google.com/assets/colab-badge.svg\" alt=\"Open In Colab\"/></a>"
      ]
    },
    {
      "cell_type": "markdown",
      "id": "449f4920",
      "metadata": {
        "id": "449f4920"
      },
      "source": [
        "# Assignment 1"
      ]
    },
    {
      "cell_type": "markdown",
      "id": "e400b985",
      "metadata": {
        "id": "e400b985"
      },
      "source": [
        "Q1. Maximum elements from matrix"
      ]
    },
    {
      "cell_type": "code",
      "execution_count": null,
      "id": "9d6405e6",
      "metadata": {
        "id": "9d6405e6",
        "outputId": "08ec59cb-b505-4529-d0b0-112cd6c848b2"
      },
      "outputs": [
        {
          "name": "stdout",
          "output_type": "stream",
          "text": [
            "Maximum element is:  7\n"
          ]
        }
      ],
      "source": [
        "import numpy as np\n",
        "mat=np.array([[2,4,6],[1,2,3],[4,5,3],[6,7,4]])\n",
        "max=np.amax(mat)\n",
        "print(\"Maximum element is: \",max)"
      ]
    },
    {
      "cell_type": "markdown",
      "id": "992af841",
      "metadata": {
        "id": "992af841"
      },
      "source": [
        "Q2. Get the minimum value from given matrix"
      ]
    },
    {
      "cell_type": "code",
      "execution_count": null,
      "id": "453d3969",
      "metadata": {
        "id": "453d3969",
        "outputId": "ae7e0813-7d63-4b43-e44f-8bcdb30e61e2"
      },
      "outputs": [
        {
          "name": "stdout",
          "output_type": "stream",
          "text": [
            "Minimum element is:  1\n"
          ]
        }
      ],
      "source": [
        "import numpy as np\n",
        "mat=np.array([[2,4,6],[1,2,3],[4,5,3],[6,7,4]])\n",
        "min=np.amin(mat)\n",
        "print(\"Minimum element is: \",min)"
      ]
    },
    {
      "cell_type": "markdown",
      "id": "df92becb",
      "metadata": {
        "id": "df92becb"
      },
      "source": [
        "Q3.  Find the number of rows and columns of a given matrix using NumPy"
      ]
    },
    {
      "cell_type": "code",
      "execution_count": null,
      "id": "0373d798",
      "metadata": {
        "id": "0373d798",
        "outputId": "aad55cd2-efc5-44cd-98b4-ad12c70f1e1a"
      },
      "outputs": [
        {
          "name": "stdout",
          "output_type": "stream",
          "text": [
            "The number of rows is :  4\n",
            "The number of coulumns is :  3\n"
          ]
        }
      ],
      "source": [
        "import numpy as np\n",
        "mat=np.array([[2,4,6],[1,2,3],[4,5,3],[6,7,4]])\n",
        "arr=np.shape(mat)\n",
        "print(\"The number of rows is : \",arr[0])\n",
        "print(\"The number of coulumns is : \",arr[1])"
      ]
    },
    {
      "cell_type": "markdown",
      "id": "a807bee5",
      "metadata": {
        "id": "a807bee5"
      },
      "source": [
        "Q4. Select the elements from a given matrix"
      ]
    },
    {
      "cell_type": "code",
      "execution_count": null,
      "id": "8c5befc0",
      "metadata": {
        "id": "8c5befc0",
        "outputId": "3c2553c3-3db0-4b30-e307-9d95d21842f5"
      },
      "outputs": [
        {
          "name": "stdout",
          "output_type": "stream",
          "text": [
            "The elements in 1st 2 row are: \n",
            " [[2 4 6]\n",
            " [1 2 3]]\n",
            "The elements selected are\n",
            "[3, 5, 6]\n"
          ]
        }
      ],
      "source": [
        "import numpy as np\n",
        "mat=np.array([[2,4,6],[1,2,3],[4,5,3],[6,7,4]])\n",
        "print(\"The elements in 1st 2 row are: \\n\",mat[0:2])\n",
        "print(\"The elements selected are\")\n",
        "select_elements=[mat[1,2],mat[2,1],mat[3,0]]\n",
        "print(select_elements)"
      ]
    },
    {
      "cell_type": "markdown",
      "id": "abde3b91",
      "metadata": {
        "id": "abde3b91"
      },
      "source": [
        "Q5.Find the sum of values in a matrix"
      ]
    },
    {
      "cell_type": "code",
      "execution_count": null,
      "id": "055ad01e",
      "metadata": {
        "id": "055ad01e",
        "outputId": "456f9045-852f-4e8d-9e9b-a93270e891df"
      },
      "outputs": [
        {
          "name": "stdout",
          "output_type": "stream",
          "text": [
            "The sum of elements in matrix is:  47\n"
          ]
        }
      ],
      "source": [
        "import numpy as np\n",
        "mat=np.array([[2,4,6],[1,2,3],[4,5,3],[6,7,4]])\n",
        "print(\"The sum of elements in matrix is: \",np.sum(mat))"
      ]
    },
    {
      "cell_type": "markdown",
      "id": "9f88ad73",
      "metadata": {
        "id": "9f88ad73"
      },
      "source": [
        "Q6. Perform addition and subtraction of two matrices"
      ]
    },
    {
      "cell_type": "code",
      "execution_count": null,
      "id": "90adf4e9",
      "metadata": {
        "id": "90adf4e9",
        "outputId": "7476f818-c24d-458a-f246-8a13320cc060"
      },
      "outputs": [
        {
          "name": "stdout",
          "output_type": "stream",
          "text": [
            "The addition of mat 1 and mat 2 is: \n",
            " [[ 3  5  7]\n",
            " [ 3  4  5]\n",
            " [ 7  8  6]\n",
            " [10 11  8]]\n",
            "The subtraction of mat 1 and mat 2 is: \n",
            " [[ 1  3  5]\n",
            " [-1  0  1]\n",
            " [ 1  2  0]\n",
            " [ 2  3  0]]\n"
          ]
        }
      ],
      "source": [
        "import numpy as np\n",
        "mat1=np.array([[2,4,6],[1,2,3],[4,5,3],[6,7,4]])\n",
        "mat2=np.array([[1,1,1],[2,2,2],[3,3,3],[4,4,4]])\n",
        "print(\"The addition of mat 1 and mat 2 is: \\n\",np.add(mat1,mat2))\n",
        "print(\"The subtraction of mat 1 and mat 2 is: \\n\",np.subtract(mat1,mat2))"
      ]
    },
    {
      "cell_type": "markdown",
      "id": "3e1c46b7",
      "metadata": {
        "id": "3e1c46b7"
      },
      "source": [
        "Q7. Matrix Multiplication in NumPy"
      ]
    },
    {
      "cell_type": "code",
      "execution_count": null,
      "id": "abb78811",
      "metadata": {
        "id": "abb78811",
        "outputId": "5fadf7b6-2d63-4371-9ac4-6e741a88a897"
      },
      "outputs": [
        {
          "name": "stdout",
          "output_type": "stream",
          "text": [
            "The multiplication of mat 1 and mat 2 is: \n",
            " [[ 2  4  6]\n",
            " [ 2  4  6]\n",
            " [12 15  9]\n",
            " [24 28 16]]\n"
          ]
        }
      ],
      "source": [
        "import numpy as np\n",
        "mat1=np.array([[2,4,6],[1,2,3],[4,5,3],[6,7,4]])\n",
        "mat2=np.array([[1,1,1],[2,2,2],[3,3,3],[4,4,4]])\n",
        "print(\"The multiplication of mat 1 and mat 2 is: \\n\",np.multiply(mat1,mat2))"
      ]
    },
    {
      "cell_type": "markdown",
      "id": "f33aab24",
      "metadata": {
        "id": "f33aab24"
      },
      "source": [
        "Q8. How to count the frequency of unique values in NumPy array?"
      ]
    },
    {
      "cell_type": "code",
      "execution_count": null,
      "id": "860ff7c3",
      "metadata": {
        "id": "860ff7c3",
        "outputId": "95d432b1-d4f9-4a57-db52-6f2124f6cc75"
      },
      "outputs": [
        {
          "name": "stdout",
          "output_type": "stream",
          "text": [
            "unique:  [1 2 3 4 5 6 7]\n",
            "frequency  [1 2 2 3 1 2 1]\n"
          ]
        }
      ],
      "source": [
        "import numpy as np\n",
        "mat=np.array([[2,4,6],[1,2,3],[4,5,3],[6,7,4]])\n",
        "unique, frequency = np.unique(mat, return_counts = True)\n",
        "print(\"unique: \",unique)\n",
        "print(\"frequency \",frequency)"
      ]
    },
    {
      "cell_type": "markdown",
      "id": "942b1c07",
      "metadata": {
        "id": "942b1c07"
      },
      "source": [
        "Q9. Convert the matrix into a list"
      ]
    },
    {
      "cell_type": "code",
      "execution_count": null,
      "id": "d1541e31",
      "metadata": {
        "id": "d1541e31",
        "outputId": "c4f73410-fd9a-408e-d513-da68cf3e6fdc"
      },
      "outputs": [
        {
          "name": "stdout",
          "output_type": "stream",
          "text": [
            "[2, 4, 6, 1, 2, 3, 4, 5, 3, 6, 7, 4]\n"
          ]
        }
      ],
      "source": [
        "import numpy as np\n",
        "mat=np.array([[2,4,6],[1,2,3],[4,5,3],[6,7,4]])\n",
        "list1=[]\n",
        "\n",
        "for x in np.array(mat).flat:\n",
        "    list1.append(x)\n",
        "\n",
        "print(list1)"
      ]
    },
    {
      "cell_type": "markdown",
      "id": "8d027b95",
      "metadata": {
        "id": "8d027b95"
      },
      "source": [
        "Q10. Replace negative value with zero in numpy array"
      ]
    },
    {
      "cell_type": "code",
      "execution_count": null,
      "id": "dac53c5f",
      "metadata": {
        "id": "dac53c5f",
        "outputId": "40d3b7f0-4b1e-444d-ea8a-7b7f51eb32e1"
      },
      "outputs": [
        {
          "name": "stdout",
          "output_type": "stream",
          "text": [
            "[[2 0 6]\n",
            " [0 2 3]\n",
            " [0 5 0]\n",
            " [6 0 4]]\n"
          ]
        }
      ],
      "source": [
        "import numpy as np\n",
        "mat=np.array([[2,-4,6],[-1,2,3],[-4,5,-3],[6,-7,4]])\n",
        "mat[mat<0]=0\n",
        "print(mat)"
      ]
    },
    {
      "cell_type": "markdown",
      "id": "c5cd5106",
      "metadata": {
        "id": "c5cd5106"
      },
      "source": [
        "Q11.Compute the median of the flattened NumPy array"
      ]
    },
    {
      "cell_type": "code",
      "execution_count": null,
      "id": "63ded61e",
      "metadata": {
        "id": "63ded61e",
        "outputId": "fa015e56-0185-4cab-a46a-a6ff3035db40"
      },
      "outputs": [
        {
          "name": "stdout",
          "output_type": "stream",
          "text": [
            "Median : 4.0\n"
          ]
        }
      ],
      "source": [
        "import numpy as np\n",
        "mat=np.array([[2,4,6],[1,2,3],[4,5,3],[6,7,4]])\n",
        "mat=np.array(mat).flat\n",
        "print(\"Median :\",np.median(mat))"
      ]
    },
    {
      "cell_type": "markdown",
      "id": "5def4193",
      "metadata": {
        "id": "5def4193"
      },
      "source": [
        "Q12.Find Mean of a List of Numpy Array"
      ]
    },
    {
      "cell_type": "code",
      "execution_count": null,
      "id": "8296d741",
      "metadata": {
        "id": "8296d741",
        "outputId": "a6a07af1-7f9c-4f04-d7e3-78d438c614ae"
      },
      "outputs": [
        {
          "name": "stdout",
          "output_type": "stream",
          "text": [
            "Mean : 3.9166666666666665\n"
          ]
        }
      ],
      "source": [
        "import numpy as np\n",
        "mat=np.array([[2,4,6],[1,2,3],[4,5,3],[6,7,4]])\n",
        "list1=[]\n",
        "\n",
        "for x in np.array(mat).flat:\n",
        "    list1.append(x)\n",
        "print(\"Mean :\",np.mean(list1))"
      ]
    },
    {
      "cell_type": "markdown",
      "id": "a45510df",
      "metadata": {
        "id": "a45510df"
      },
      "source": [
        "Q13.Get the mean value from given matrix"
      ]
    },
    {
      "cell_type": "code",
      "execution_count": null,
      "id": "7867b77c",
      "metadata": {
        "id": "7867b77c",
        "outputId": "b9c06a26-ffd3-40dd-968d-6b3ddca4dc89"
      },
      "outputs": [
        {
          "name": "stdout",
          "output_type": "stream",
          "text": [
            "Mean : 3.9166666666666665\n"
          ]
        }
      ],
      "source": [
        "import numpy as np\n",
        "mat=np.array([[2,4,6],[1,2,3],[4,5,3],[6,7,4]])\n",
        "print(\"Mean :\",np.mean(mat))"
      ]
    },
    {
      "cell_type": "markdown",
      "id": "b2fe4730",
      "metadata": {
        "id": "b2fe4730"
      },
      "source": [
        "Q14.Compute the variance of the NumPy array"
      ]
    },
    {
      "cell_type": "code",
      "execution_count": null,
      "id": "5063ae49",
      "metadata": {
        "id": "5063ae49",
        "outputId": "b9c1a31a-237b-4bae-f8a1-ab3c1d7d4cce"
      },
      "outputs": [
        {
          "name": "stdout",
          "output_type": "stream",
          "text": [
            "Variance:  3.076388888888889\n"
          ]
        }
      ],
      "source": [
        "import numpy as np\n",
        "mat=np.array([[2,4,6],[1,2,3],[4,5,3],[6,7,4]])\n",
        "print(\"Variance: \",np.var(mat))"
      ]
    },
    {
      "cell_type": "markdown",
      "id": "15f0cc1c",
      "metadata": {
        "id": "15f0cc1c"
      },
      "source": [
        "Q15.Compute the standard deviation of the NumPy array"
      ]
    },
    {
      "cell_type": "code",
      "execution_count": null,
      "id": "d4e35820",
      "metadata": {
        "id": "d4e35820",
        "outputId": "1ceb23ca-a7b0-44a4-dda5-ad16a6c86bb0"
      },
      "outputs": [
        {
          "name": "stdout",
          "output_type": "stream",
          "text": [
            "Standard deviation:  1.7539637649874324\n"
          ]
        }
      ],
      "source": [
        "import numpy as np\n",
        "mat=np.array([[2,4,6],[1,2,3],[4,5,3],[6,7,4]])\n",
        "print(\"Standard deviation: \",np.std(mat))"
      ]
    },
    {
      "cell_type": "markdown",
      "id": "fd71e8e3",
      "metadata": {
        "id": "fd71e8e3"
      },
      "source": [
        "Q16.Create a 5X2 integer array from a range between 100 to 200 such that the  difference between each element is 10"
      ]
    },
    {
      "cell_type": "code",
      "execution_count": null,
      "id": "a3a84189",
      "metadata": {
        "id": "a3a84189",
        "outputId": "2ebd5133-a3d0-4942-b3a3-4401404e7269"
      },
      "outputs": [
        {
          "name": "stdout",
          "output_type": "stream",
          "text": [
            "[100, 110, 120, 130, 140, 150, 160, 170, 180, 190]\n",
            "[100 110 120 130 140 150 160 170 180 190]\n"
          ]
        },
        {
          "data": {
            "text/plain": [
              "array([[100, 110],\n",
              "       [120, 130],\n",
              "       [140, 150],\n",
              "       [160, 170],\n",
              "       [180, 190]])"
            ]
          },
          "execution_count": 50,
          "metadata": {},
          "output_type": "execute_result"
        }
      ],
      "source": [
        "import numpy as np\n",
        "list=[]\n",
        "for i in range(100,200,10):\n",
        "    list.append(i)\n",
        "print(list)\n",
        "arr=np.array(list)\n",
        "print(arr)\n",
        "arr.reshape(5,2)"
      ]
    },
    {
      "cell_type": "markdown",
      "id": "7c511aec",
      "metadata": {
        "id": "7c511aec"
      },
      "source": [
        "Q17.Following is the provided numPy array. Return array of items by taking  the third column from all rows"
      ]
    },
    {
      "cell_type": "code",
      "execution_count": null,
      "id": "6fd93323",
      "metadata": {
        "id": "6fd93323",
        "outputId": "584277dc-5969-46fe-feab-13867dfe0989"
      },
      "outputs": [
        {
          "name": "stdout",
          "output_type": "stream",
          "text": [
            "[33, 66, 99]\n"
          ]
        }
      ],
      "source": [
        "import numpy as np\n",
        "mat=np.array([[2,4,6],[1,2,3],[4,5,3],[6,7,4]])\n",
        "third_col=[]\n",
        "sampleArray = np.array([[11 ,22, 33], [44, 55, 66], [77, 88, 99]])\n",
        "for i in range(len(sampleArray)):\n",
        "    third_col.append(sampleArray[i,2])\n",
        "print(third_col)"
      ]
    },
    {
      "cell_type": "code",
      "execution_count": null,
      "id": "690e1b16",
      "metadata": {
        "id": "690e1b16"
      },
      "outputs": [],
      "source": []
    }
  ],
  "metadata": {
    "kernelspec": {
      "display_name": "Python 3 (ipykernel)",
      "language": "python",
      "name": "python3"
    },
    "language_info": {
      "codemirror_mode": {
        "name": "ipython",
        "version": 3
      },
      "file_extension": ".py",
      "mimetype": "text/x-python",
      "name": "python",
      "nbconvert_exporter": "python",
      "pygments_lexer": "ipython3",
      "version": "3.9.12"
    },
    "colab": {
      "provenance": [],
      "include_colab_link": true
    }
  },
  "nbformat": 4,
  "nbformat_minor": 5
}