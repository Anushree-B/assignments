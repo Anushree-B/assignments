{
  "cells": [
    {
      "cell_type": "markdown",
      "metadata": {
        "id": "view-in-github",
        "colab_type": "text"
      },
      "source": [
        "<a href=\"https://colab.research.google.com/github/Anushree-B/assignments/blob/main/python_assignment_numpy_iris.ipynb\" target=\"_parent\"><img src=\"https://colab.research.google.com/assets/colab-badge.svg\" alt=\"Open In Colab\"/></a>"
      ]
    },
    {
      "cell_type": "code",
      "execution_count": null,
      "id": "1c4f14f9",
      "metadata": {
        "id": "1c4f14f9"
      },
      "outputs": [],
      "source": [
        "import pandas as pd\n",
        "import numpy as np"
      ]
    },
    {
      "cell_type": "markdown",
      "id": "f4544e25",
      "metadata": {
        "id": "f4544e25"
      },
      "source": [
        "Q1. generate a sequence of numbers in the form of a numpy array from 0 to 100 with gaps of 2"
      ]
    },
    {
      "cell_type": "code",
      "execution_count": null,
      "id": "4d737bb5",
      "metadata": {
        "id": "4d737bb5",
        "outputId": "79a74a38-5286-41d0-f9b8-2a20a7b187ba"
      },
      "outputs": [
        {
          "name": "stdout",
          "output_type": "stream",
          "text": [
            "[  0   2   4   6   8  10  12  14  16  18  20  22  24  26  28  30  32  34\n",
            "  36  38  40  42  44  46  48  50  52  54  56  58  60  62  64  66  68  70\n",
            "  72  74  76  78  80  82  84  86  88  90  92  94  96  98 100]\n"
          ]
        }
      ],
      "source": [
        "seq=np.arange(0,101,2)\n",
        "print(seq)"
      ]
    },
    {
      "cell_type": "markdown",
      "id": "77283b1e",
      "metadata": {
        "id": "77283b1e"
      },
      "source": [
        "Q2. create a random vector of size 10 and abd replace max value by 0"
      ]
    },
    {
      "cell_type": "code",
      "execution_count": null,
      "id": "49303d4d",
      "metadata": {
        "id": "49303d4d",
        "outputId": "a9dc914f-2f6d-4cd0-d4de-c37fa8288a60"
      },
      "outputs": [
        {
          "name": "stdout",
          "output_type": "stream",
          "text": [
            "Original vector:\n",
            " [0.17436643 0.69093774 0.38673535 0.93672999 0.13752094 0.34106635\n",
            " 0.11347352 0.92469362 0.87733935 0.25794163]\n",
            "New vector: \n",
            " [0.17436643 0.69093774 0.38673535 0.         0.13752094 0.34106635\n",
            " 0.11347352 0.92469362 0.87733935 0.25794163]\n"
          ]
        }
      ],
      "source": [
        "random_vect=np.random.rand(10)\n",
        "print(f\"Original vector:\\n {random_vect}\")\n",
        "max_val=np.argmax(random_vect)\n",
        "random_vect[max_val]=0\n",
        "print(\"New vector: \\n\", random_vect)"
      ]
    },
    {
      "cell_type": "markdown",
      "id": "d4062344",
      "metadata": {
        "id": "d4062344"
      },
      "source": [
        "Q3. load iris data from file and find all rows from iris data petal length > 1.3 and sepal length < 5.0"
      ]
    },
    {
      "cell_type": "code",
      "execution_count": null,
      "id": "82a864d3",
      "metadata": {
        "id": "82a864d3",
        "outputId": "f6da2e88-efed-42e6-f80e-a42b82fd9a03"
      },
      "outputs": [
        {
          "name": "stdout",
          "output_type": "stream",
          "text": [
            "     sepal_length  sepal_width  petal_length  petal_width          species\n",
            "11            4.8          3.4           1.6          0.2      Iris-setosa\n",
            "24            4.8          3.4           1.9          0.2      Iris-setosa\n",
            "29            4.7          3.2           1.6          0.2      Iris-setosa\n",
            "30            4.8          3.1           1.6          0.2      Iris-setosa\n",
            "57            4.9          2.4           3.3          1.0  Iris-versicolor\n",
            "106           4.9          2.5           4.5          1.7   Iris-virginica\n"
          ]
        }
      ],
      "source": [
        "df = pd.read_csv(\"Z:/python sem 2/iris.csv\")\n",
        "filtered_df = df[(df.iloc[:, 2] > 1.5) & (df.iloc[:, 0] < 5.0)]\n",
        "print(filtered_df)"
      ]
    },
    {
      "cell_type": "markdown",
      "id": "b245912a",
      "metadata": {
        "id": "b245912a"
      },
      "source": [
        "Q4. find min, max and std of sepal length"
      ]
    },
    {
      "cell_type": "code",
      "execution_count": null,
      "id": "a20fdd07",
      "metadata": {
        "id": "a20fdd07",
        "outputId": "033dcaff-7d53-4dc6-e23a-5ffbfed35a13"
      },
      "outputs": [
        {
          "name": "stdout",
          "output_type": "stream",
          "text": [
            "Minimum Sepal Length:  4.3\n",
            "Maximum Sepal Length:  7.9\n",
            "Standard Deviation of Sepal Length:  0.8253012917851409\n"
          ]
        }
      ],
      "source": [
        "min_sepal_length = np.min(df['sepal_length'])\n",
        "max_sepal_length = np.max(df['sepal_length'])\n",
        "std_dev_sepal_length = np.std(df['sepal_length'])\n",
        "\n",
        "print(\"Minimum Sepal Length: \",min_sepal_length)\n",
        "print(\"Maximum Sepal Length: \",max_sepal_length)\n",
        "print(\"Standard Deviation of Sepal Length: \",std_dev_sepal_length)"
      ]
    },
    {
      "cell_type": "markdown",
      "id": "406f81b0",
      "metadata": {
        "id": "406f81b0"
      },
      "source": [
        "Q5. normalize sepal length values so that they can range from 0 to 1"
      ]
    },
    {
      "cell_type": "code",
      "execution_count": null,
      "id": "39f15371",
      "metadata": {
        "id": "39f15371",
        "outputId": "53328a9b-6f29-4799-acbb-7c3d4aa1007a"
      },
      "outputs": [
        {
          "name": "stdout",
          "output_type": "stream",
          "text": [
            "     sepal_length  normalized_sepal_length\n",
            "0             5.1                 0.222222\n",
            "1             4.9                 0.166667\n",
            "2             4.7                 0.111111\n",
            "3             4.6                 0.083333\n",
            "4             5.0                 0.194444\n",
            "..            ...                      ...\n",
            "145           6.7                 0.666667\n",
            "146           6.3                 0.555556\n",
            "147           6.5                 0.611111\n",
            "148           6.2                 0.527778\n",
            "149           5.9                 0.444444\n",
            "\n",
            "[150 rows x 2 columns]\n"
          ]
        }
      ],
      "source": [
        "min_sepal_length = df['sepal_length'].min()\n",
        "max_sepal_length = df['sepal_length'].max()\n",
        "\n",
        "# Apply Min-Max normalization to sepal length\n",
        "df['normalized_sepal_length'] = (df['sepal_length'] - min_sepal_length) / (max_sepal_length - min_sepal_length)\n",
        "\n",
        "# Print the normalized data\n",
        "print(df[['sepal_length', 'normalized_sepal_length']])"
      ]
    },
    {
      "cell_type": "markdown",
      "id": "e62c24c5",
      "metadata": {
        "id": "e62c24c5"
      },
      "source": [
        "Q6. insert null values randomly in petal length"
      ]
    },
    {
      "cell_type": "code",
      "execution_count": null,
      "id": "50c5660f",
      "metadata": {
        "id": "50c5660f",
        "outputId": "4ceacc7d-8c03-460f-e562-d590ebfe51c5"
      },
      "outputs": [
        {
          "name": "stdout",
          "output_type": "stream",
          "text": [
            "     sepal_length  sepal_width  petal_length  petal_width         species  \\\n",
            "0             5.1          3.5           1.4          0.2     Iris-setosa   \n",
            "1             4.9          3.0           1.4          0.2     Iris-setosa   \n",
            "2             4.7          3.2           1.3          0.2     Iris-setosa   \n",
            "3             4.6          3.1           1.5          0.2     Iris-setosa   \n",
            "4             5.0          3.6           1.4          0.2     Iris-setosa   \n",
            "..            ...          ...           ...          ...             ...   \n",
            "145           6.7          3.0           5.2          2.3  Iris-virginica   \n",
            "146           6.3          2.5           5.0          1.9  Iris-virginica   \n",
            "147           6.5          3.0           5.2          2.0  Iris-virginica   \n",
            "148           6.2          3.4           5.4          2.3  Iris-virginica   \n",
            "149           5.9          3.0           NaN          1.8  Iris-virginica   \n",
            "\n",
            "     normalized_sepal_length  \n",
            "0                   0.222222  \n",
            "1                   0.166667  \n",
            "2                   0.111111  \n",
            "3                   0.083333  \n",
            "4                   0.194444  \n",
            "..                       ...  \n",
            "145                 0.666667  \n",
            "146                 0.555556  \n",
            "147                 0.611111  \n",
            "148                 0.527778  \n",
            "149                 0.444444  \n",
            "\n",
            "[150 rows x 6 columns]\n"
          ]
        }
      ],
      "source": [
        "#np.random.seed(42)\n",
        "num_na = 10\n",
        "null_index = np.random.choice(df.index, num_na, replace=False)\n",
        "\n",
        "# Insert null values in the 'petal_length' column at randomly selected indices\n",
        "df.loc[null_index, 'petal_length'] = np.nan\n",
        "\n",
        "print(df)"
      ]
    },
    {
      "cell_type": "code",
      "execution_count": null,
      "id": "c91b47a3",
      "metadata": {
        "id": "c91b47a3",
        "outputId": "c94b3740-0550-4e21-c774-36f0c3a01566"
      },
      "outputs": [
        {
          "data": {
            "text/plain": [
              "10"
            ]
          },
          "execution_count": 16,
          "metadata": {},
          "output_type": "execute_result"
        }
      ],
      "source": [
        "df['petal_length'].isna().sum()"
      ]
    },
    {
      "cell_type": "markdown",
      "id": "38f68495",
      "metadata": {
        "id": "38f68495"
      },
      "source": [
        "Q7 find positions of missing values"
      ]
    },
    {
      "cell_type": "code",
      "execution_count": null,
      "id": "436f1077",
      "metadata": {
        "id": "436f1077",
        "outputId": "8cc849c2-0dfb-4cb9-f20b-dfe91156fbe7"
      },
      "outputs": [
        {
          "name": "stdout",
          "output_type": "stream",
          "text": [
            "Positions of Missing Values in 'petal_length' column:\n",
            "[ 18  31  64  68  73  76  78  82 118 141]\n"
          ]
        }
      ],
      "source": [
        "missing_value_positions = np.where(df['petal_length'].isnull())[0]\n",
        "\n",
        "# Print the positions\n",
        "print(\"Positions of Missing Values in 'petal_length' column:\")\n",
        "print(missing_value_positions)\n"
      ]
    },
    {
      "cell_type": "markdown",
      "id": "2bddfc28",
      "metadata": {
        "id": "2bddfc28"
      },
      "source": [
        "Q8. drop all rows from iris that contains any null values"
      ]
    },
    {
      "cell_type": "code",
      "execution_count": null,
      "id": "ec5ee0ac",
      "metadata": {
        "id": "ec5ee0ac"
      },
      "outputs": [],
      "source": [
        "df_cleaned = df.dropna()"
      ]
    },
    {
      "cell_type": "code",
      "execution_count": null,
      "id": "45c6eb78",
      "metadata": {
        "id": "45c6eb78",
        "outputId": "54599cd6-ae2e-4e75-b5f4-53f4121cd713"
      },
      "outputs": [
        {
          "name": "stdout",
          "output_type": "stream",
          "text": [
            "\n",
            "After dropping null values:\n",
            "     sepal_length  sepal_width  petal_length  petal_width         species  \\\n",
            "0             5.1          3.5           1.4          0.2     Iris-setosa   \n",
            "1             4.9          3.0           1.4          0.2     Iris-setosa   \n",
            "2             4.7          3.2           1.3          0.2     Iris-setosa   \n",
            "3             4.6          3.1           1.5          0.2     Iris-setosa   \n",
            "4             5.0          3.6           1.4          0.2     Iris-setosa   \n",
            "..            ...          ...           ...          ...             ...   \n",
            "145           6.7          3.0           5.2          2.3  Iris-virginica   \n",
            "146           6.3          2.5           5.0          1.9  Iris-virginica   \n",
            "147           6.5          3.0           5.2          2.0  Iris-virginica   \n",
            "148           6.2          3.4           5.4          2.3  Iris-virginica   \n",
            "149           5.9          3.0           5.1          1.8  Iris-virginica   \n",
            "\n",
            "     normalized_sepal_length  \n",
            "0                   0.222222  \n",
            "1                   0.166667  \n",
            "2                   0.111111  \n",
            "3                   0.083333  \n",
            "4                   0.194444  \n",
            "..                       ...  \n",
            "145                 0.666667  \n",
            "146                 0.555556  \n",
            "147                 0.611111  \n",
            "148                 0.527778  \n",
            "149                 0.444444  \n",
            "\n",
            "[140 rows x 6 columns]\n"
          ]
        }
      ],
      "source": [
        "print(\"\\nAfter dropping null values:\")\n",
        "print(df_cleaned)"
      ]
    },
    {
      "cell_type": "markdown",
      "id": "c87d220e",
      "metadata": {
        "id": "c87d220e"
      },
      "source": [
        "Q9. count unique values of species"
      ]
    },
    {
      "cell_type": "code",
      "execution_count": null,
      "id": "874d4ebe",
      "metadata": {
        "id": "874d4ebe",
        "outputId": "8a8a18bb-1d16-4fd2-e943-bc5c8e0ce8dd"
      },
      "outputs": [
        {
          "name": "stdout",
          "output_type": "stream",
          "text": [
            "Unique values of species and their counts:\n",
            "Iris-setosa        50\n",
            "Iris-versicolor    50\n",
            "Iris-virginica     50\n",
            "Name: species, dtype: int64\n"
          ]
        }
      ],
      "source": [
        "species_counts = df['species'].value_counts()\n",
        "\n",
        "#print the result\n",
        "print(\"Unique values of species and their counts:\")\n",
        "print(species_counts)"
      ]
    },
    {
      "cell_type": "markdown",
      "id": "e3bdb609",
      "metadata": {
        "id": "e3bdb609"
      },
      "source": [
        "Q10. display number of rows per species"
      ]
    },
    {
      "cell_type": "code",
      "execution_count": null,
      "id": "46f74abe",
      "metadata": {
        "id": "46f74abe",
        "outputId": "477fc245-ae2c-41cd-f730-e63795e3b02c"
      },
      "outputs": [
        {
          "name": "stdout",
          "output_type": "stream",
          "text": [
            "Number of rows per species:\n",
            "species\n",
            "Iris-setosa        50\n",
            "Iris-versicolor    50\n",
            "Iris-virginica     50\n",
            "dtype: int64\n"
          ]
        }
      ],
      "source": [
        "rows_per_species = df.groupby('species').size()\n",
        "\n",
        "#print the result\n",
        "print(\"Number of rows per species:\")\n",
        "print(rows_per_species)"
      ]
    },
    {
      "cell_type": "code",
      "execution_count": null,
      "id": "4622de2f",
      "metadata": {
        "id": "4622de2f"
      },
      "outputs": [],
      "source": []
    }
  ],
  "metadata": {
    "kernelspec": {
      "display_name": "Python 3 (ipykernel)",
      "language": "python",
      "name": "python3"
    },
    "language_info": {
      "codemirror_mode": {
        "name": "ipython",
        "version": 3
      },
      "file_extension": ".py",
      "mimetype": "text/x-python",
      "name": "python",
      "nbconvert_exporter": "python",
      "pygments_lexer": "ipython3",
      "version": "3.9.12"
    },
    "colab": {
      "provenance": [],
      "include_colab_link": true
    }
  },
  "nbformat": 4,
  "nbformat_minor": 5
}